{
 "cells": [
  {
   "cell_type": "code",
   "execution_count": 108,
   "metadata": {},
   "outputs": [],
   "source": [
    "from sympy.physics.vector import (\n",
    "    ReferenceFrame,\n",
    "    dynamicsymbols,\n",
    "    get_motion_params\n",
    ")\n",
    "from sympy import symbols, Eq, solveset, FiniteSet, nonlinsolve, Function, Piecewise"
   ]
  },
  {
   "cell_type": "code",
   "execution_count": 110,
   "metadata": {},
   "outputs": [],
   "source": [
    "t = symbols('t')\n",
    "T = symbols('T')"
   ]
  },
  {
   "cell_type": "code",
   "execution_count": 114,
   "metadata": {},
   "outputs": [],
   "source": [
    "N = ReferenceFrame('N')\n",
    "\n",
    "a_mag, v_mag, d_mag = dynamicsymbols('a v d')\n",
    "a_vec = N.x * a_mag\n",
    "v_vec = N.x * v_mag\n",
    "d_vec = N.x * d_mag\n",
    "\n",
    "a_fn, v_fn, d_fn = get_motion_params(N, acceleration=a_vec, velocity=v_vec, position=d_vec)"
   ]
  },
  {
   "cell_type": "code",
   "execution_count": 95,
   "metadata": {},
   "outputs": [
    {
     "data": {
      "text/latex": [
       "$\\displaystyle (\\operatorname{d}\\left(0\\right) + \\int\\limits_{0}^{t} \\left(\\operatorname{v}\\left(0\\right) + \\int\\limits_{0}^{t} a\\, dt\\right)\\, dt)\\mathbf{\\hat{n}_x}$"
      ],
      "text/plain": [
       "(d(0) + Integral(v(0) + Integral(a, (t, 0, t)), (t, 0, t)))*N.x"
      ]
     },
     "execution_count": 95,
     "metadata": {},
     "output_type": "execute_result"
    }
   ],
   "source": [
    "d_fn"
   ]
  },
  {
   "cell_type": "code",
   "execution_count": null,
   "metadata": {},
   "outputs": [],
   "source": []
  },
  {
   "cell_type": "code",
   "execution_count": 9,
   "metadata": {},
   "outputs": [],
   "source": [
    "# Function\n",
    "# t = symbols('t')\n",
    "# dt.subs([(a, 4)]).doit()\n",
    "\n",
    "# from sympy.utilities.lambdify import lambdify\n",
    "\n",
    "# lam = lambdify(a, dt.to_matrix(N), \"sympy\")\n",
    "# lam(4)"
   ]
  },
  {
   "cell_type": "code",
   "execution_count": 96,
   "metadata": {},
   "outputs": [],
   "source": [
    "vT_mag, dT_mag = symbols('v_T d_T')\n",
    "vT_vec = N.x * vT_mag\n",
    "dT_vec = N.x * dT_mag"
   ]
  },
  {
   "cell_type": "code",
   "execution_count": 107,
   "metadata": {},
   "outputs": [
    {
     "data": {
      "text/latex": [
       "$\\displaystyle \\left[\\begin{matrix}v_{T}\\\\0\\\\0\\end{matrix}\\right] = \\left[\\begin{matrix}v{\\left(0 \\right)} + \\int\\limits_{0}^{T} a{\\left(t \\right)}\\, dt\\\\0\\\\0\\end{matrix}\\right]$"
      ],
      "text/plain": [
       "Eq(Matrix([\n",
       "[v_T],\n",
       "[  0],\n",
       "[  0]]), Matrix([\n",
       "[v(0) + Integral(a(t), (t, 0, T))],\n",
       "[                               0],\n",
       "[                               0]]))"
      ]
     },
     "execution_count": 107,
     "metadata": {},
     "output_type": "execute_result"
    }
   ],
   "source": [
    "Eq(dT_vec.to_matrix(N), d_fn.to_matrix(N).subs(t, T))\n",
    "Eq(vT_vec.to_matrix(N), v_fn.to_matrix(N).subs(t, T))"
   ]
  },
  {
   "cell_type": "code",
   "execution_count": 75,
   "metadata": {},
   "outputs": [
    {
     "data": {
      "text/latex": [
       "$\\displaystyle a\\mathbf{\\hat{n}_x}$"
      ],
      "text/plain": [
       "a*N.x"
      ]
     },
     "execution_count": 75,
     "metadata": {},
     "output_type": "execute_result"
    }
   ],
   "source": [
    "d_fn.diff(t, N) - vT_vec\n",
    "d_fn - dT_vec\n",
    "d_fn.diff(t, N).diff(t, N)"
   ]
  },
  {
   "cell_type": "code",
   "execution_count": 15,
   "metadata": {},
   "outputs": [
    {
     "data": {
      "text/latex": [
       "$\\displaystyle (v_{T} - \\operatorname{v}\\left(0\\right) - \\int\\limits_{0}^{t} a\\, dt)\\mathbf{\\hat{n}_x}$"
      ],
      "text/plain": [
       "(v_T - v(0) - Integral(a, (t, 0, t)))*N.x"
      ]
     },
     "execution_count": 15,
     "metadata": {},
     "output_type": "execute_result"
    }
   ],
   "source": [
    "vT_vec - v_fn"
   ]
  },
  {
   "cell_type": "code",
   "execution_count": 41,
   "metadata": {},
   "outputs": [
    {
     "data": {
      "text/latex": [
       "$\\displaystyle \\left\\{t \\mid t \\in \\mathbb{C} \\wedge - v_{T} + v{\\left(0 \\right)} + \\int\\limits_{0}^{t} a{\\left(t \\right)}\\, dt = 0 \\right\\}$"
      ],
      "text/plain": [
       "ConditionSet(t, Eq(-v_T + v(0) + Integral(a(t), (t, 0, t)), 0), Complexes)"
      ]
     },
     "execution_count": 41,
     "metadata": {},
     "output_type": "execute_result"
    }
   ],
   "source": [
    "solveset((vT_vec - v_fn).to_matrix(N)[0], t)"
   ]
  },
  {
   "cell_type": "code",
   "execution_count": 19,
   "metadata": {},
   "outputs": [
    {
     "data": {
      "text/latex": [
       "$\\displaystyle \\left\\{t \\mid t \\in \\mathbb{C} \\wedge - d_{T} + d{\\left(0 \\right)} + \\int\\limits_{0}^{t} \\left(v{\\left(0 \\right)} + \\int\\limits_{0}^{t} a{\\left(t \\right)}\\, dt\\right)\\, dt = 0 \\right\\}$"
      ],
      "text/plain": [
       "ConditionSet(t, Eq(-d_T + d(0) + Integral(v(0) + Integral(a(t), (t, 0, t)), (t, 0, t)), 0), Complexes)"
      ]
     },
     "execution_count": 19,
     "metadata": {},
     "output_type": "execute_result"
    }
   ],
   "source": [
    "solveset((dT_vec - d_fn).to_matrix(N)[0], t)"
   ]
  },
  {
   "cell_type": "code",
   "execution_count": 48,
   "metadata": {},
   "outputs": [
    {
     "data": {
      "text/latex": [
       "$\\displaystyle \\left\\{\\left( t\\right) \\mid \\left( t\\right) \\in \\mathbb{C}^{1} \\wedge d_{T} - d{\\left(0 \\right)} - \\int\\limits_{0}^{t} \\left(v{\\left(0 \\right)} + \\int\\limits_{0}^{t} a{\\left(t \\right)}\\, dt\\right)\\, dt = 0 \\wedge v_{T} - v{\\left(0 \\right)} - \\int\\limits_{0}^{t} a{\\left(t \\right)}\\, dt = 0 \\right\\}$"
      ],
      "text/plain": [
       "ConditionSet((t,), Eq(v_T - v(0) - Integral(a(t), (t, 0, t)), 0) & Eq(d_T - d(0) - Integral(v(0) + Integral(a(t), (t, 0, t)), (t, 0, t)), 0), ProductSet(Complexes))"
      ]
     },
     "execution_count": 48,
     "metadata": {},
     "output_type": "execute_result"
    }
   ],
   "source": [
    "tmp = nonlinsolve(\n",
    "    [\n",
    "        (vT_vec - v_fn).to_matrix(N)[0],\n",
    "        (dT_vec - d_fn).to_matrix(N)[0]\n",
    "    ],\n",
    "    (t)\n",
    ")\n",
    "tmp.subs([(a_mag, 2), (v_mag, 0), (d_mag, 0), (vT_mag, 100), (dT_mag, 1000)])"
   ]
  },
  {
   "cell_type": "code",
   "execution_count": 49,
   "metadata": {},
   "outputs": [],
   "source": [
    "# TODO: Differential equation so that:\n",
    "# | f''(x) = {a, -a}\n",
    "# | f'(0) = v0\n",
    "# | f'(T) = vT\n",
    "# | f(0) = d0\n",
    "# | f(0) = dT"
   ]
  },
  {
   "cell_type": "code",
   "execution_count": null,
   "metadata": {},
   "outputs": [],
   "source": []
  }
 ],
 "metadata": {
  "kernelspec": {
   "display_name": "Python 3",
   "language": "python",
   "name": "python3"
  },
  "language_info": {
   "codemirror_mode": {
    "name": "ipython",
    "version": 3
   },
   "file_extension": ".py",
   "mimetype": "text/x-python",
   "name": "python",
   "nbconvert_exporter": "python",
   "pygments_lexer": "ipython3",
   "version": "3.8.2"
  }
 },
 "nbformat": 4,
 "nbformat_minor": 4
}
