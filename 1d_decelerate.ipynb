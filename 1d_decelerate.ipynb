{
 "cells": [
  {
   "cell_type": "code",
   "execution_count": 22,
   "metadata": {},
   "outputs": [],
   "source": [
    "from sympy.physics.vector import (\n",
    "    ReferenceFrame,\n",
    "    dynamicsymbols,\n",
    "    get_motion_params\n",
    ")\n",
    "from sympy import symbols, Piecewise, Eq, solveset, Min, Max, latex\n",
    "\n",
    "from IPython.display import Markdown\n",
    "import numpy as np\n",
    "import plotly.graph_objects as go"
   ]
  },
  {
   "cell_type": "code",
   "execution_count": 2,
   "metadata": {},
   "outputs": [],
   "source": [
    "T = symbols('T', nonnegative=True)\n",
    "R = symbols('R', nonnegative=True)\n",
    "t = symbols('t', nonnegative=True)"
   ]
  },
  {
   "cell_type": "code",
   "execution_count": 3,
   "metadata": {},
   "outputs": [],
   "source": [
    "N = ReferenceFrame('N')"
   ]
  },
  {
   "cell_type": "code",
   "execution_count": 4,
   "metadata": {},
   "outputs": [],
   "source": [
    "a_magnitude = symbols('|a|', nonnegative=True)\n",
    "v0_magnitude = symbols('|v_{0}|', nonnegative=True) # TODO: v0 should be a 3D vector, and accept negative values\n",
    "p0_magnitude = symbols('|p_{0}|', nonnegative=True) # TODO: d0 should be a 3D vector, and accept negative values\n",
    "\n",
    "a_vector = N.x * Piecewise((-a_magnitude, dynamicsymbols._t > T * R), (a_magnitude, True))\n",
    "v0_vector = N.x * v0_magnitude\n",
    "p0_vector = N.x * p0_magnitude\n",
    "\n",
    "pT_magnitude = symbols('|d_{T}|', nonnegative=True) # TODO: pT should be a 3D vector, and accept negative values\n",
    "pT_vector = N.x * pT_magnitude\n",
    "\n",
    "vT_magnitude = symbols('|v_{T}|')\n",
    "vT_vector = N.x * vT_magnitude"
   ]
  },
  {
   "cell_type": "code",
   "execution_count": 5,
   "metadata": {
    "jupyter": {
     "source_hidden": true
    }
   },
   "outputs": [
    {
     "data": {
      "text/markdown": [
       "\n",
       "# Reference frame\n",
       "\n",
       "$$N = \\{ \\mathbf{\\hat{n}_x}, \\mathbf{\\hat{n}_y}, \\mathbf{\\hat{n}_z} \\}$$\n",
       "\n",
       "# Reference variables\n",
       "\n",
       "$$\n",
       "\\begin{align*}\n",
       "|a| & \\quad & m.s^{-2} \\quad & \\text{ Acceleration magnitude} \\\\\n",
       "v_0 &= |v_{0}|\\mathbf{\\hat{n}_x} \\quad & m.s^{-1} \\quad & \\text{ Velocity at } t_0 \\\\\n",
       "v_T &= |v_{T}|\\mathbf{\\hat{n}_x} \\quad & m.s^{-1} \\quad & \\text{ Velocity at destination} \\\\\n",
       "p_0 &= |p_{0}|\\mathbf{\\hat{n}_x} \\quad & m \\quad & \\text{ Position at } t_0 \\\\\n",
       "p_T &= |d_{T}|\\mathbf{\\hat{n}_x} \\quad & m \\quad & \\text{ Position at destination}\n",
       "\\end{align*}\n",
       "$$\n"
      ],
      "text/plain": [
       "<IPython.core.display.Markdown object>"
      ]
     },
     "execution_count": 5,
     "metadata": {},
     "output_type": "execute_result"
    }
   ],
   "source": [
    "Markdown(rf\"\"\"\n",
    "# Reference frame\n",
    "\n",
    "$$N = \\{{ {latex(N.x)}, {latex(N.y)}, {latex(N.z)} \\}}$$\n",
    "\n",
    "# Reference variables\n",
    "\n",
    "$$\n",
    "\\begin{{align*}}\n",
    "|a| & \\quad & m.s^{{-2}} \\quad & \\text{{ Acceleration magnitude}} \\\\\n",
    "v_0 &= {latex(v0_vector)} \\quad & m.s^{{-1}} \\quad & \\text{{ Velocity at }} t_0 \\\\\n",
    "v_T &= {latex(vT_vector)} \\quad & m.s^{{-1}} \\quad & \\text{{ Velocity at destination}} \\\\\n",
    "p_0 &= {latex(p0_vector)} \\quad & m \\quad & \\text{{ Position at }} t_0 \\\\\n",
    "p_T &= {latex(pT_vector)} \\quad & m \\quad & \\text{{ Position at destination}}\n",
    "\\end{{align*}}\n",
    "$$\n",
    "\"\"\")"
   ]
  },
  {
   "cell_type": "code",
   "execution_count": 26,
   "metadata": {},
   "outputs": [],
   "source": [
    "def replace_min_T(f):\n",
    "    # Given that T >= 0 and R in [0, 1]:\n",
    "    #  We can say that min(t, R * T) = R * T\n",
    "    #  However sympy is not able to infer this, so we replace manually\n",
    "    return f.replace(Min(t, R*T), R*T)\n",
    "\n",
    "def replace_min_T_max_0_RT(f):\n",
    "    # Given that T >= 0 and R in [0, 1]:\n",
    "    #  We can say that min(t, max(0, R * T)) = R * T\n",
    "    #  However sympy is not able to infer this, so we replace manually\n",
    "#     return replace_min_T(f.replace(Max(sympify(0), R * T), R * T))\n",
    "    return replace_min_T(f.replace(Max, lambda a, b: (b if a == 0 else a_)))\n",
    "\n",
    "original_a_fn, original_v_fn, original_d_fn = get_motion_params(\n",
    "    N,\n",
    "    acceleration=a_vector, \n",
    "    velocity=v0_vector,\n",
    "    position=p0_vector\n",
    ")\n",
    "\n",
    "a_fn = original_a_fn.subs(dynamicsymbols._t, t)\n",
    "v_fn = original_v_fn.subs(dynamicsymbols._t, t).applyfunc(replace_min_T)\n",
    "d_fn = original_d_fn.subs(dynamicsymbols._t, t).applyfunc(replace_min_T_max_0_RT)"
   ]
  },
  {
   "cell_type": "code",
   "execution_count": 7,
   "metadata": {
    "jupyter": {
     "source_hidden": true
    }
   },
   "outputs": [
    {
     "data": {
      "text/markdown": [
       "\n",
       "# Motion parameters, with constant acceleration $a$\n",
       "\n",
       "These formulae depend on:\n",
       "* $T$ (in seconds): The total time to arrival\n",
       "* $R \\in [0, 1]$: The ratio at which we start decelerating\n",
       "\n",
       "$$\n",
       "\\begin{align}\n",
       "a(t) &= \\begin{cases} - |a| & \\text{for}\\: t > R T \\\\|a| & \\text{otherwise} \\end{cases}\\mathbf{\\hat{n}_x} \\\\\n",
       "v(t) &= (2 R T |a| - t |a| + |v_{0}|)\\mathbf{\\hat{n}_x} \\\\\n",
       "d(t) &= (R^{2} T^{2} |a| + R T |v_{0}| - R T \\left(2 R T |a| + |v_{0}|\\right) - \\frac{t^{2} |a|}{2} + t \\left(2 R T |a| + |v_{0}|\\right) + |p_{0}|)\\mathbf{\\hat{n}_x}\n",
       "\\end{align}\n",
       "$$\n"
      ],
      "text/plain": [
       "<IPython.core.display.Markdown object>"
      ]
     },
     "execution_count": 7,
     "metadata": {},
     "output_type": "execute_result"
    }
   ],
   "source": [
    "Markdown(rf\"\"\"\n",
    "# Motion parameters, with constant acceleration $a$\n",
    "\n",
    "These formulae depend on:\n",
    "* $T$ (in seconds): The total time to arrival\n",
    "* $R \\in [0, 1]$: The ratio at which we start decelerating\n",
    "\n",
    "$$\n",
    "\\begin{{align}}\n",
    "a(t) &= {latex(a_fn)} \\\\\n",
    "v(t) &= {latex(v_fn)} \\\\\n",
    "d(t) &= {latex(d_fn)}\n",
    "\\end{{align}}\n",
    "$$\n",
    "\"\"\")"
   ]
  },
  {
   "cell_type": "code",
   "execution_count": 8,
   "metadata": {},
   "outputs": [],
   "source": [
    "eq_vT_x = Eq(\n",
    "    vT_vector.to_matrix(N)[0],\n",
    "    v_fn.subs(t, T).to_matrix(N)[0]\n",
    ") # TODO: Make that equation on 3 dimensions\n",
    "\n",
    "solved_R = list(solveset(eq_vT_x, R))[0] # The solveset returns a singleton, which is also a list of size 1"
   ]
  },
  {
   "cell_type": "code",
   "execution_count": 9,
   "metadata": {
    "jupyter": {
     "source_hidden": true
    }
   },
   "outputs": [
    {
     "data": {
      "text/markdown": [
       "\n",
       "# Finding R\n",
       "\n",
       "$R \\in [0, 1]$: The ratio at which we start decelerating\n",
       "\n",
       "$$\n",
       "\\begin{align}\n",
       "v_T &= v(T) \\\\\n",
       "|v_{T}| &= 2 R T |a| - T |a| + |v_{0}| \\\\\n",
       "\\end{align}\n",
       "$$\n",
       "\n",
       "This solves into:\n",
       "\n",
       "$$R = \\frac{T |a| - |v_{0}| + |v_{T}|}{2 T |a|}$$\n"
      ],
      "text/plain": [
       "<IPython.core.display.Markdown object>"
      ]
     },
     "execution_count": 9,
     "metadata": {},
     "output_type": "execute_result"
    }
   ],
   "source": [
    "Markdown(rf\"\"\"\n",
    "# Finding R\n",
    "\n",
    "$R \\in [0, 1]$: The ratio at which we start decelerating\n",
    "\n",
    "$$\n",
    "\\begin{{align}}\n",
    "v_T &= v(T) \\\\\n",
    "{latex(vT_vector.to_matrix(N)[0])} &= {latex(v_fn.subs(t, T).to_matrix(N)[0])} \\\\\n",
    "\\end{{align}}\n",
    "$$\n",
    "\n",
    "This solves into:\n",
    "\n",
    "$$R = {latex(solved_R)}$$\n",
    "\"\"\")"
   ]
  },
  {
   "cell_type": "code",
   "execution_count": 10,
   "metadata": {},
   "outputs": [],
   "source": [
    "eq_dT_x = Eq(\n",
    "    pT_vector.to_matrix(N)[0],\n",
    "    d_fn.subs({t: T, R: solved_R}).to_matrix(N)[0]\n",
    ") # TODO: Make that equation on 3 dimensions\n",
    "\n",
    "# eq_dT_x solves as a quadratic expression, thus returns a finite set of two values.\n",
    "solved_T1, solved_T2 = solveset(eq_dT_x, T)\n",
    "# We need to turn these two values into a Piecewise, in order to substitute them\n",
    "solved_T = Piecewise((solved_T1, solved_T1 >= 0), (solved_T2, True))\n",
    "\n",
    "# TODO: Inject T >= 0 into the solveset to only get one result"
   ]
  },
  {
   "cell_type": "code",
   "execution_count": 17,
   "metadata": {
    "jupyter": {
     "source_hidden": true
    }
   },
   "outputs": [
    {
     "data": {
      "text/markdown": [
       "\n",
       "# Finding T\n",
       "\n",
       "$T$ (in seconds): The total time to arrival\n",
       "\n",
       "$$\n",
       "\\begin{align}\n",
       "p_T &= p(T) \\\\\n",
       "|d_{T}| &= R^{2} T^{2} |a| + R T |v_{0}| - R T \\left(2 R T |a| + |v_{0}|\\right) - \\frac{T^{2} |a|}{2} + T \\left(2 R T |a| + |v_{0}|\\right) + |p_{0}| \\\\\n",
       "\\\\\n",
       "\\text{Given that } R &= \\frac{T |a| - |v_{0}| + |v_{T}|}{2 T |a|} \\\\\n",
       "|d_{T}| &= - \\frac{T^{2} |a|}{2} + T \\left(T |a| + |v_{T}|\\right) + |p_{0}| + \\frac{|v_{0}| \\left(T |a| - |v_{0}| + |v_{T}|\\right)}{2 |a|} - \\frac{\\left(T |a| + |v_{T}|\\right) \\left(T |a| - |v_{0}| + |v_{T}|\\right)}{2 |a|} + \\frac{\\left(T |a| - |v_{0}| + |v_{T}|\\right)^{2}}{4 |a|} \\\\\n",
       "\\end{align}\n",
       "$$\n",
       "\n",
       "This solves into:\n",
       "\n",
       "$$T = \\begin{cases} - \\frac{|v_{0}| + |v_{T}|}{|a|} + \\frac{\\sqrt{2} \\sqrt{2 |a| |d_{T}| - 2 |a| |p_{0}| + |v_{0}|^{2} + |v_{T}|^{2}}}{|a|} & \\text{for}\\: \\frac{|v_{0}| + |v_{T}|}{|a|} - \\frac{\\sqrt{2} \\sqrt{2 |a| |d_{T}| - 2 |a| |p_{0}| + |v_{0}|^{2} + |v_{T}|^{2}}}{|a|} \\leq 0 \\\\- \\frac{|v_{0}| + |v_{T}|}{|a|} - \\frac{\\sqrt{2} \\sqrt{2 |a| |d_{T}| - 2 |a| |p_{0}| + |v_{0}|^{2} + |v_{T}|^{2}}}{|a|} & \\text{otherwise} \\end{cases}$$\n"
      ],
      "text/plain": [
       "<IPython.core.display.Markdown object>"
      ]
     },
     "execution_count": 17,
     "metadata": {},
     "output_type": "execute_result"
    }
   ],
   "source": [
    "Markdown(rf\"\"\"\n",
    "# Finding T\n",
    "\n",
    "$T$ (in seconds): The total time to arrival\n",
    "\n",
    "$$\n",
    "\\begin{{align}}\n",
    "p_T &= p(T) \\\\\n",
    "{latex(pT_vector.to_matrix(N)[0])} &= {latex(d_fn.subs({t: T}).to_matrix(N)[0])} \\\\\n",
    "\\\\\n",
    "\\text{{Given that }} R &= {latex(solved_R)} \\\\\n",
    "{latex(pT_vector.to_matrix(N)[0])} &= {latex(d_fn.subs({t: T, R: solved_R}).to_matrix(N)[0])} \\\\\n",
    "\\end{{align}}\n",
    "$$\n",
    "\n",
    "This solves into:\n",
    "\n",
    "$$T = {latex(solved_T)}$$\n",
    "\"\"\")"
   ]
  },
  {
   "cell_type": "code",
   "execution_count": 28,
   "metadata": {},
   "outputs": [],
   "source": [
    "from sympy import piecewise_fold\n",
    "\n",
    "a_fn_2 = a_fn.subs({T: solved_T, R: solved_R})\n",
    "v_fn_2 = v_fn.subs({T: solved_T, R: solved_R})\n",
    "d_fn_2 = d_fn.subs({T: solved_T, R: solved_R})"
   ]
  },
  {
   "cell_type": "code",
   "execution_count": 18,
   "metadata": {
    "jupyter": {
     "source_hidden": true
    }
   },
   "outputs": [
    {
     "data": {
      "text/markdown": [
       "\n",
       "# Motion parameters, final equations\n",
       "\n",
       "After injecting $T$ and $R$, we obtain:\n",
       "\n",
       "$$\n",
       "\\begin{align}\n",
       "a(t) &= \\begin{cases} - |a| & \\text{for}\\: ITE\\left(\\frac{|v_{0}| + |v_{T}|}{|a|} - \\frac{\\sqrt{2} \\sqrt{2 |a| |d_{T}| - 2 |a| |p_{0}| + |v_{0}|^{2} + |v_{T}|^{2}}}{|a|} \\leq 0, t > \\frac{|a| \\left(- \\frac{|v_{0}| + |v_{T}|}{|a|} + \\frac{\\sqrt{2} \\sqrt{2 |a| |d_{T}| - 2 |a| |p_{0}| + |v_{0}|^{2} + |v_{T}|^{2}}}{|a|}\\right) - |v_{0}| + |v_{T}|}{2 |a|}, t > \\frac{|a| \\left(- \\frac{|v_{0}| + |v_{T}|}{|a|} - \\frac{\\sqrt{2} \\sqrt{2 |a| |d_{T}| - 2 |a| |p_{0}| + |v_{0}|^{2} + |v_{T}|^{2}}}{|a|}\\right) - |v_{0}| + |v_{T}|}{2 |a|}\\right) \\\\|a| & \\text{otherwise} \\end{cases}\\mathbf{\\hat{n}_x} \\\\\n",
       "v(t) &= (- t |a| + |a| \\left(\\begin{cases} - \\frac{|v_{0}| + |v_{T}|}{|a|} + \\frac{\\sqrt{2} \\sqrt{2 |a| |d_{T}| - 2 |a| |p_{0}| + |v_{0}|^{2} + |v_{T}|^{2}}}{|a|} & \\text{for}\\: \\frac{|v_{0}| + |v_{T}|}{|a|} - \\frac{\\sqrt{2} \\sqrt{2 |a| |d_{T}| - 2 |a| |p_{0}| + |v_{0}|^{2} + |v_{T}|^{2}}}{|a|} \\leq 0 \\\\- \\frac{|v_{0}| + |v_{T}|}{|a|} - \\frac{\\sqrt{2} \\sqrt{2 |a| |d_{T}| - 2 |a| |p_{0}| + |v_{0}|^{2} + |v_{T}|^{2}}}{|a|} & \\text{otherwise} \\end{cases}\\right) + |v_{T}|)\\mathbf{\\hat{n}_x} \\\\\n",
       "d(t) &= (- \\frac{t^{2} |a|}{2} + t \\left(|a| \\left(\\begin{cases} - \\frac{|v_{0}| + |v_{T}|}{|a|} + \\frac{\\sqrt{2} \\sqrt{2 |a| |d_{T}| - 2 |a| |p_{0}| + |v_{0}|^{2} + |v_{T}|^{2}}}{|a|} & \\text{for}\\: \\frac{|v_{0}| + |v_{T}|}{|a|} - \\frac{\\sqrt{2} \\sqrt{2 |a| |d_{T}| - 2 |a| |p_{0}| + |v_{0}|^{2} + |v_{T}|^{2}}}{|a|} \\leq 0 \\\\- \\frac{|v_{0}| + |v_{T}|}{|a|} - \\frac{\\sqrt{2} \\sqrt{2 |a| |d_{T}| - 2 |a| |p_{0}| + |v_{0}|^{2} + |v_{T}|^{2}}}{|a|} & \\text{otherwise} \\end{cases}\\right) + |v_{T}|\\right) + |p_{0}| + \\frac{|v_{0}| \\left(|a| \\left(\\begin{cases} - \\frac{|v_{0}| + |v_{T}|}{|a|} + \\frac{\\sqrt{2} \\sqrt{2 |a| |d_{T}| - 2 |a| |p_{0}| + |v_{0}|^{2} + |v_{T}|^{2}}}{|a|} & \\text{for}\\: \\frac{|v_{0}| + |v_{T}|}{|a|} - \\frac{\\sqrt{2} \\sqrt{2 |a| |d_{T}| - 2 |a| |p_{0}| + |v_{0}|^{2} + |v_{T}|^{2}}}{|a|} \\leq 0 \\\\- \\frac{|v_{0}| + |v_{T}|}{|a|} - \\frac{\\sqrt{2} \\sqrt{2 |a| |d_{T}| - 2 |a| |p_{0}| + |v_{0}|^{2} + |v_{T}|^{2}}}{|a|} & \\text{otherwise} \\end{cases}\\right) - |v_{0}| + |v_{T}|\\right)}{2 |a|} - \\frac{\\left(|a| \\left(\\begin{cases} - \\frac{|v_{0}| + |v_{T}|}{|a|} + \\frac{\\sqrt{2} \\sqrt{2 |a| |d_{T}| - 2 |a| |p_{0}| + |v_{0}|^{2} + |v_{T}|^{2}}}{|a|} & \\text{for}\\: \\frac{|v_{0}| + |v_{T}|}{|a|} - \\frac{\\sqrt{2} \\sqrt{2 |a| |d_{T}| - 2 |a| |p_{0}| + |v_{0}|^{2} + |v_{T}|^{2}}}{|a|} \\leq 0 \\\\- \\frac{|v_{0}| + |v_{T}|}{|a|} - \\frac{\\sqrt{2} \\sqrt{2 |a| |d_{T}| - 2 |a| |p_{0}| + |v_{0}|^{2} + |v_{T}|^{2}}}{|a|} & \\text{otherwise} \\end{cases}\\right) + |v_{T}|\\right) \\left(|a| \\left(\\begin{cases} - \\frac{|v_{0}| + |v_{T}|}{|a|} + \\frac{\\sqrt{2} \\sqrt{2 |a| |d_{T}| - 2 |a| |p_{0}| + |v_{0}|^{2} + |v_{T}|^{2}}}{|a|} & \\text{for}\\: \\frac{|v_{0}| + |v_{T}|}{|a|} - \\frac{\\sqrt{2} \\sqrt{2 |a| |d_{T}| - 2 |a| |p_{0}| + |v_{0}|^{2} + |v_{T}|^{2}}}{|a|} \\leq 0 \\\\- \\frac{|v_{0}| + |v_{T}|}{|a|} - \\frac{\\sqrt{2} \\sqrt{2 |a| |d_{T}| - 2 |a| |p_{0}| + |v_{0}|^{2} + |v_{T}|^{2}}}{|a|} & \\text{otherwise} \\end{cases}\\right) - |v_{0}| + |v_{T}|\\right)}{2 |a|} + \\frac{\\left(|a| \\left(\\begin{cases} - \\frac{|v_{0}| + |v_{T}|}{|a|} + \\frac{\\sqrt{2} \\sqrt{2 |a| |d_{T}| - 2 |a| |p_{0}| + |v_{0}|^{2} + |v_{T}|^{2}}}{|a|} & \\text{for}\\: \\frac{|v_{0}| + |v_{T}|}{|a|} - \\frac{\\sqrt{2} \\sqrt{2 |a| |d_{T}| - 2 |a| |p_{0}| + |v_{0}|^{2} + |v_{T}|^{2}}}{|a|} \\leq 0 \\\\- \\frac{|v_{0}| + |v_{T}|}{|a|} - \\frac{\\sqrt{2} \\sqrt{2 |a| |d_{T}| - 2 |a| |p_{0}| + |v_{0}|^{2} + |v_{T}|^{2}}}{|a|} & \\text{otherwise} \\end{cases}\\right) - |v_{0}| + |v_{T}|\\right)^{2}}{4 |a|})\\mathbf{\\hat{n}_x}\n",
       "\\end{align}\n",
       "$$\n"
      ],
      "text/plain": [
       "<IPython.core.display.Markdown object>"
      ]
     },
     "execution_count": 18,
     "metadata": {},
     "output_type": "execute_result"
    }
   ],
   "source": [
    "Markdown(rf\"\"\"\n",
    "# Motion parameters, final equations\n",
    "\n",
    "After injecting $T$ and $R$, we obtain:\n",
    "\n",
    "$$\n",
    "\\begin{{align}}\n",
    "a(t) &= {latex(a_fn_2)} \\\\\n",
    "v(t) &= {latex(v_fn_2)} \\\\\n",
    "d(t) &= {latex(d_fn_2)}\n",
    "\\end{{align}}\n",
    "$$\n",
    "\"\"\")"
   ]
  },
  {
   "cell_type": "code",
   "execution_count": 14,
   "metadata": {
    "jupyter": {
     "source_hidden": true
    }
   },
   "outputs": [],
   "source": [
    "def get_t_vals(args):\n",
    "    max_T = float(solved_T.subs(args))\n",
    "    return np.linspace(0, max_T, 99)\n",
    "\n",
    "def plot_position(a_knob, v0_knob, p0_knob, pT_knob, vT_knob):\n",
    "    args = {a_magnitude: a_knob, v0_magnitude: v0_knob, p0_magnitude: p0_knob, pT_magnitude: pT_knob, vT_magnitude: vT_knob}\n",
    "    t_vals = get_t_vals(args)\n",
    "    \n",
    "    d = d_fn_2.subs(args).to_matrix(N)[0]\n",
    "    position = go.Figure()\n",
    "    position.add_trace(go.Scatter(x=list(t_vals), y=[float(d.subs(t, t_val)) for t_val in t_vals], line_shape='spline', name=\"Position(x)\"))\n",
    "\n",
    "    position.update_layout(title=\"Position(x)\", xaxis_title=\"t\", yaxis_title=\"p(t)\")\n",
    "    position.show()\n",
    "    \n",
    "def plot_velocity(a_knob, v0_knob, p0_knob, pT_knob, vT_knob):\n",
    "    args = {a_magnitude: a_knob, v0_magnitude: v0_knob, p0_magnitude: p0_knob, pT_magnitude: pT_knob, vT_magnitude: vT_knob}\n",
    "    t_vals = get_t_vals(args)\n",
    "    \n",
    "    v = v_fn_2.subs(args).to_matrix(N)[0]\n",
    "    position = go.Figure()\n",
    "    position.add_trace(go.Scatter(x=list(t_vals), y=[float(v.subs(t, t_val)) for t_val in t_vals], line_shape='spline', name=\"Velocity(x)\"))\n",
    "\n",
    "    position.update_layout(title=\"Velocity(t)\", xaxis_title=\"t\", yaxis_title=\"v(t)\")\n",
    "    position.show()\n",
    "    \n",
    "def plot_acceleration(a_knob, v0_knob, p0_knob, pT_knob, vT_knob):\n",
    "    args = {a_magnitude: a_knob, v0_magnitude: v0_knob, p0_magnitude: p0_knob, pT_magnitude: pT_knob, vT_magnitude: vT_knob}\n",
    "    t_vals = get_t_vals(args)\n",
    "\n",
    "    a = a_fn_2.subs(args).to_matrix(N)[0]\n",
    "    position = go.Figure()\n",
    "    position.add_trace(go.Scatter(x=list(t_vals), y=[float(a.subs(t, t_val)) for t_val in t_vals], line_shape='hv', name=\"Acceleration(x)\"))\n",
    "\n",
    "    position.update_layout(title=\"Acceleration(t)\", xaxis_title=\"t\", yaxis_title=\"a(t)\")\n",
    "    position.show()"
   ]
  },
  {
   "cell_type": "code",
   "execution_count": 15,
   "metadata": {
    "jupyter": {
     "source_hidden": true
    }
   },
   "outputs": [
    {
     "data": {
      "application/vnd.jupyter.widget-view+json": {
       "model_id": "cc5932a359674ab1ad1b5488f630a2fc",
       "version_major": 2,
       "version_minor": 0
      },
      "text/plain": [
       "GridBox(children=(BoundedFloatText(value=1.0, description='Acceleration (m.s-2)', max=15.0, min=0.1, step=0.1)…"
      ]
     },
     "metadata": {},
     "output_type": "display_data"
    }
   ],
   "source": [
    "import ipywidgets as widgets\n",
    "from ipywidgets import interactive_output\n",
    "\n",
    "a_knob = widgets.BoundedFloatText(value=1, min=0.1, max=15.0, step=0.1, description='Acceleration (m.s-2)')\n",
    "v0_knob = widgets.IntText(value=0, step=10, description='v0 (m.s-1)')\n",
    "vT_knob = widgets.IntText(value=0, step=10, description='vT (m.s-1)')\n",
    "p0_knob = widgets.IntText(value=0, step=10, description='p0 (m)')\n",
    "pT_knob = widgets.IntText(value=100000, step=10, description='pT (m)')\n",
    "\n",
    "ui = widgets.GridBox([a_knob, v0_knob, vT_knob, p0_knob, pT_knob])\n",
    "display(ui)"
   ]
  },
  {
   "cell_type": "code",
   "execution_count": 16,
   "metadata": {
    "jupyter": {
     "source_hidden": true
    }
   },
   "outputs": [
    {
     "data": {
      "application/vnd.jupyter.widget-view+json": {
       "model_id": "788e95ff6fce4ac39db0bda0c9a0892d",
       "version_major": 2,
       "version_minor": 0
      },
      "text/plain": [
       "Output()"
      ]
     },
     "metadata": {},
     "output_type": "display_data"
    },
    {
     "data": {
      "application/vnd.jupyter.widget-view+json": {
       "model_id": "828d9db730644b90b235c14f9539164a",
       "version_major": 2,
       "version_minor": 0
      },
      "text/plain": [
       "Output()"
      ]
     },
     "metadata": {},
     "output_type": "display_data"
    },
    {
     "data": {
      "application/vnd.jupyter.widget-view+json": {
       "model_id": "ba1a84de73f9464f8f1b7e71aea90af9",
       "version_major": 2,
       "version_minor": 0
      },
      "text/plain": [
       "Output()"
      ]
     },
     "metadata": {},
     "output_type": "display_data"
    }
   ],
   "source": [
    "knob_args = {\"a_knob\": a_knob, \"v0_knob\": v0_knob, \"p0_knob\": p0_knob, \"pT_knob\": pT_knob, \"vT_knob\": vT_knob}\n",
    "\n",
    "position_plot = interactive_output(plot_position, knob_args)\n",
    "velocity_plot = interactive_output(plot_velocity, knob_args)\n",
    "acceleration_plot = interactive_output(plot_acceleration, knob_args)\n",
    "display(position_plot, velocity_plot, acceleration_plot)"
   ]
  }
 ],
 "metadata": {
  "kernelspec": {
   "display_name": "Python 3",
   "language": "python",
   "name": "python3"
  },
  "language_info": {
   "codemirror_mode": {
    "name": "ipython",
    "version": 3
   },
   "file_extension": ".py",
   "mimetype": "text/x-python",
   "name": "python",
   "nbconvert_exporter": "python",
   "pygments_lexer": "ipython3",
   "version": "3.8.2"
  }
 },
 "nbformat": 4,
 "nbformat_minor": 4
}
