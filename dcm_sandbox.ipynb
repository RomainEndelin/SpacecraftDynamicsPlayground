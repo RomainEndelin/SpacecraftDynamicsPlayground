{
 "cells": [
  {
   "cell_type": "code",
   "execution_count": 108,
   "metadata": {},
   "outputs": [],
   "source": [
    "from sympy.physics.vector import ReferenceFrame\n",
    "from sympy import symbols, latex, Matrix, simplify, Abs, acos, asin, cos, sin, pi, eye\n",
    "from IPython.display import Markdown, display"
   ]
  },
  {
   "cell_type": "code",
   "execution_count": 203,
   "metadata": {},
   "outputs": [],
   "source": [
    "N = ReferenceFrame('N')\n",
    "A = ReferenceFrame('A')\n",
    "B = ReferenceFrame('B')\n",
    "\n",
    "d1, d2, d3 = symbols('d_1 d_2 d_3')\n",
    "direction_vector = N.x * d1 + N.y * d2 + N.z * d3\n",
    "\n",
    "NA1 = direction_vector.normalize().to_matrix(N)"
   ]
  },
  {
   "cell_type": "code",
   "execution_count": 208,
   "metadata": {},
   "outputs": [
    {
     "data": {
      "text/latex": [
       "$\\displaystyle \\left[\\begin{matrix}\\frac{d_{1}}{\\sqrt{d_{1}^{2} + d_{2}^{2} + d_{3}^{2}}}\\\\\\frac{d_{2}}{\\sqrt{d_{1}^{2} + d_{2}^{2} + d_{3}^{2}}}\\\\\\frac{d_{3}}{\\sqrt{d_{1}^{2} + d_{2}^{2} + d_{3}^{2}}}\\end{matrix}\\right]$"
      ],
      "text/plain": [
       "Matrix([\n",
       "[d_1/sqrt(d_1**2 + d_2**2 + d_3**2)],\n",
       "[d_2/sqrt(d_1**2 + d_2**2 + d_3**2)],\n",
       "[d_3/sqrt(d_1**2 + d_2**2 + d_3**2)]])"
      ]
     },
     "execution_count": 208,
     "metadata": {},
     "output_type": "execute_result"
    }
   ],
   "source": [
    "Nx = N.x.to_matrix(N)\n",
    "\n",
    "v = Nx.cross(NA1)\n",
    "s = v.norm() # sine of angle\n",
    "c = Nx.dot(NA1) # cosine of angle\n",
    "K = Matrix(3, 3, [\n",
    "    0, - v[2], v[1],\n",
    "    v[2], 0, - v[0],\n",
    "    - v[1], v[0], 0\n",
    "])\n",
    "R = eye(3) + K + (K * K) * (1 - c) / (1 - c ** 2)"
   ]
  },
  {
   "cell_type": "code",
   "execution_count": 212,
   "metadata": {},
   "outputs": [
    {
     "data": {
      "text/markdown": [
       "\n",
       "DCM: $$\\left[\\begin{matrix}\\frac{d_{1}}{\\sqrt{d_{1}^{2} + d_{2}^{2} + d_{3}^{2}}} & \\frac{d_{2}}{\\sqrt{d_{1}^{2} + d_{2}^{2} + d_{3}^{2}}} & \\frac{d_{3}}{\\sqrt{d_{1}^{2} + d_{2}^{2} + d_{3}^{2}}}\\\\- \\frac{d_{2}}{\\sqrt{d_{1}^{2} + d_{2}^{2} + d_{3}^{2}}} & \\frac{d_{1} d_{2}^{2} + d_{3}^{2} \\sqrt{d_{1}^{2} + d_{2}^{2} + d_{3}^{2}}}{\\left(d_{2}^{2} + d_{3}^{2}\\right) \\sqrt{d_{1}^{2} + d_{2}^{2} + d_{3}^{2}}} & \\frac{d_{2} d_{3} \\left(d_{1} - \\sqrt{d_{1}^{2} + d_{2}^{2} + d_{3}^{2}}\\right)}{\\left(d_{2}^{2} + d_{3}^{2}\\right) \\sqrt{d_{1}^{2} + d_{2}^{2} + d_{3}^{2}}}\\\\\\frac{d_{2}^{2} d_{3} \\left(d_{1} - \\sqrt{d_{1}^{2} + d_{2}^{2} + d_{3}^{2}}\\right)}{\\left(d_{2}^{2} + d_{3}^{2}\\right) \\left(d_{1}^{2} + d_{2}^{2} + d_{3}^{2}\\right)} - \\frac{d_{3} \\left(d_{1} d_{2}^{2} + d_{3}^{2} \\sqrt{d_{1}^{2} + d_{2}^{2} + d_{3}^{2}}\\right)}{\\left(d_{2}^{2} + d_{3}^{2}\\right) \\left(d_{1}^{2} + d_{2}^{2} + d_{3}^{2}\\right)} & - \\frac{d_{1} d_{2} d_{3} \\left(d_{1} - \\sqrt{d_{1}^{2} + d_{2}^{2} + d_{3}^{2}}\\right)}{\\left(d_{2}^{2} + d_{3}^{2}\\right) \\left(d_{1}^{2} + d_{2}^{2} + d_{3}^{2}\\right)} - \\frac{d_{2} d_{3}}{d_{1}^{2} + d_{2}^{2} + d_{3}^{2}} & \\frac{d_{1} \\left(d_{1} d_{2}^{2} + d_{3}^{2} \\sqrt{d_{1}^{2} + d_{2}^{2} + d_{3}^{2}}\\right)}{\\left(d_{2}^{2} + d_{3}^{2}\\right) \\left(d_{1}^{2} + d_{2}^{2} + d_{3}^{2}\\right)} + \\frac{d_{2}^{2}}{d_{1}^{2} + d_{2}^{2} + d_{3}^{2}}\\end{matrix}\\right]$$\n",
       "\n",
       "Normalized direction: $$\\left[\\begin{matrix}\\frac{d_{1}}{\\sqrt{d_{1}^{2} + d_{2}^{2} + d_{3}^{2}}}\\\\\\frac{d_{2}}{\\sqrt{d_{1}^{2} + d_{2}^{2} + d_{3}^{2}}}\\\\\\frac{d_{3}}{\\sqrt{d_{1}^{2} + d_{2}^{2} + d_{3}^{2}}}\\end{matrix}\\right]$$\n",
       "Expected: $\\left[\\begin{matrix}\\sqrt{d_{1}^{2} + d_{2}^{2} + d_{3}^{2}}\\\\0\\\\0\\end{matrix}\\right]$\n",
       "\n",
       "Got: $\\left[\\begin{matrix}\\sqrt{d_{1}^{2} + d_{2}^{2} + d_{3}^{2}}\\\\0\\\\0\\end{matrix}\\right]$\n",
       "\n",
       "Determinent: $1$\n"
      ],
      "text/plain": [
       "<IPython.core.display.Markdown object>"
      ]
     },
     "metadata": {},
     "output_type": "display_data"
    }
   ],
   "source": [
    "NA2 = (R * N.y.to_matrix(N)).simplify()\n",
    "\n",
    "dcm = Matrix(3, 3, [*NA1, *NA2, *NA1.cross(NA2)])\n",
    "A.orient(N, 'DCM', dcm.transpose())\n",
    "\n",
    "display(Markdown(rf\"\"\"\n",
    "DCM: $${latex(dcm)}$$\n",
    "\n",
    "Normalized direction: $${latex(NA1)}$$\n",
    "Expected: ${latex(Matrix(3, 1, [direction_vector.magnitude(), 0, 0]))}$\n",
    "\n",
    "Got: ${latex(direction_vector.to_matrix(A).simplify())}$\n",
    "\n",
    "Determinent: ${latex(dcm.det())}$\n",
    "\"\"\"))\n",
    "assert simplify(direction_vector.to_matrix(A) - Matrix(3, 1, [direction_vector.magnitude(), 0, 0])) == Matrix(3, 1, [0, 0, 0])\n",
    "assert(dcm.det() == 1)"
   ]
  }
 ],
 "metadata": {
  "kernelspec": {
   "display_name": "Python 3",
   "language": "python",
   "name": "python3"
  },
  "language_info": {
   "codemirror_mode": {
    "name": "ipython",
    "version": 3
   },
   "file_extension": ".py",
   "mimetype": "text/x-python",
   "name": "python",
   "nbconvert_exporter": "python",
   "pygments_lexer": "ipython3",
   "version": "3.8.2"
  }
 },
 "nbformat": 4,
 "nbformat_minor": 4
}
