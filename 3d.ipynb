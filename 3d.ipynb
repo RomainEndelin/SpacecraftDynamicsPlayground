{
 "cells": [
  {
   "cell_type": "code",
   "execution_count": 234,
   "metadata": {},
   "outputs": [],
   "source": [
    "from sympy.physics.vector import (\n",
    "    ReferenceFrame,\n",
    "    dynamicsymbols,\n",
    "    get_motion_params\n",
    ")\n",
    "from sympy import symbols, Piecewise, Eq, solveset, Min, Max, latex, acos, Matrix, eye, nonlinsolve, Function\n",
    "from sympy.utilities.lambdify import lambdify\n",
    "from sympy.physics.units import gravitational_constant as G\n",
    "\n",
    "from IPython.display import Markdown, display\n",
    "import ipywidgets as widgets\n",
    "from ipywidgets import interactive_output\n",
    "\n",
    "import numpy as np\n",
    "import plotly.graph_objects as go"
   ]
  },
  {
   "cell_type": "code",
   "execution_count": 2,
   "metadata": {
    "jupyter": {
     "source_hidden": true
    }
   },
   "outputs": [
    {
     "data": {
      "text/markdown": [
       "\n",
       "# Reference frame\n",
       "\n",
       "$$N = \\{ \\mathbf{\\hat{n}_x}, \\mathbf{\\hat{n}_y}, \\mathbf{\\hat{n}_z} \\}$$\n",
       "$$A = \\{ \\mathbf{\\hat{a}_x}, \\mathbf{\\hat{a}_y}, \\mathbf{\\hat{a}_z} \\}$$\n",
       "\n",
       "$N$ is the inertial frame. Users will interact with $N$ to define their coordinates and velocity tensor.\n",
       "\n",
       "However, most calculations are performed in $A$. $A$ is the body frame.\n",
       "It is oriented into the body's direction, from its start point to its destination.\n",
       "\n",
       "**Remark:** We are now only working with particle. The object is a point, so it has no orientation/attitude.\n"
      ],
      "text/plain": [
       "<IPython.core.display.Markdown object>"
      ]
     },
     "execution_count": 2,
     "metadata": {},
     "output_type": "execute_result"
    }
   ],
   "source": [
    "N = ReferenceFrame('N') # Inertial frame\n",
    "A = ReferenceFrame('A')\n",
    "\n",
    "Markdown(rf\"\"\"\n",
    "# Reference frame\n",
    "\n",
    "$$N = \\{{ {latex(N.x)}, {latex(N.y)}, {latex(N.z)} \\}}$$\n",
    "$$A = \\{{ {latex(A.x)}, {latex(A.y)}, {latex(A.z)} \\}}$$\n",
    "\n",
    "$N$ is the inertial frame. Users will interact with $N$ to define their coordinates and velocity tensor.\n",
    "\n",
    "However, most calculations are performed in $A$. $A$ is the body frame.\n",
    "It is oriented into the body's direction, from its start point to its destination.\n",
    "\n",
    "**Remark:** We are now only working with particle. The object is a point, so it has no orientation/attitude.\n",
    "\"\"\")"
   ]
  },
  {
   "cell_type": "code",
   "execution_count": 3,
   "metadata": {
    "jupyter": {
     "source_hidden": true
    }
   },
   "outputs": [
    {
     "data": {
      "text/markdown": [
       "\n",
       "# Reference variables\n",
       "\n",
       "$$\n",
       "\\begin{align*}\n",
       "T \\quad s \\quad & \\text{Total time to destination} \\\\\n",
       "t \\quad s \\quad & \\text{Variable representing current time} \\\\\n",
       "R \\quad \\in [0, 1] & \\quad \\text{Acceleration breakpoint ratio}\n",
       "\\end{align*}\n",
       "$$\n",
       "\n",
       "The object will accelerate while $t \\leq T \\times R$, and decelerate for $t > T \\times R$.\n"
      ],
      "text/plain": [
       "<IPython.core.display.Markdown object>"
      ]
     },
     "execution_count": 3,
     "metadata": {},
     "output_type": "execute_result"
    }
   ],
   "source": [
    "T = symbols('T', real=True, nonnegative=True)\n",
    "R = symbols('R', real=True, nonnegative=True)\n",
    "t = symbols('t', real=True, nonnegative=True)\n",
    "\n",
    "Markdown(rf\"\"\"\n",
    "# Reference variables\n",
    "\n",
    "$$\n",
    "\\begin{{align*}}\n",
    "T \\quad s \\quad & \\text{{Total time to destination}} \\\\\n",
    "t \\quad s \\quad & \\text{{Variable representing current time}} \\\\\n",
    "R \\quad \\in [0, 1] & \\quad \\text{{Acceleration breakpoint ratio}}\n",
    "\\end{{align*}}\n",
    "$$\n",
    "\n",
    "The object will accelerate while $t \\leq T \\times R$, and decelerate for $t > T \\times R$.\n",
    "\"\"\")"
   ]
  },
  {
   "cell_type": "code",
   "execution_count": 240,
   "metadata": {},
   "outputs": [
    {
     "data": {
      "text/markdown": [
       "\n",
       "# Body motion\n",
       "\n",
       "## Acceleration\n",
       "\n",
       "Given:\n",
       "$$|a| \\quad G \\quad \\text{ Acceleration magnitude, given } G=9.81 m.s^{-2}$$\n",
       "\n",
       "Where $|a|$ is the perceived gravity within the object (regardless of the direction),\n",
       "\n",
       "We introduce:\n",
       "$$\n",
       "\\begin{align*}\n",
       "F_{y} \\quad m.s^{-2} \\quad & \\text{Compensation acceleration over the } \\mathbf{\\hat{a}_y} \\text{ axis} \\\\\n",
       "F_{z} \\quad m.s^{-2} \\quad & \\text{Compensation acceleration over the } \\mathbf{\\hat{a}_z} \\text{ axis} \\\\\n",
       "\\end{align*}\n",
       "$$\n",
       "\n",
       "We can now define:\n",
       "$$\n",
       "a = \\frac{|a| \\left(\\begin{cases} -1 & \\text{for}\\: R T - t < 0 \\\\1 & \\text{otherwise} \\end{cases}\\right) \\text{G}}{\\sqrt{F_{y}^{2} + F_{z}^{2} + 1}}\\mathbf{\\hat{a}_x} + \\frac{F_{y} |a| \\text{G}}{\\sqrt{F_{y}^{2} + F_{z}^{2} + 1}}\\mathbf{\\hat{a}_y} + \\frac{F_{z} |a| \\text{G}}{\\sqrt{F_{y}^{2} + F_{z}^{2} + 1}}\\mathbf{\\hat{a}_z}\n",
       "$$\n",
       "\n",
       "If $|a| = 1 G = 9.81 m.s^{-2}$, travelers inside the object will feel gravity equivalent to Earth.\n",
       "\n",
       "$F_y$ and $F_z$ are meant to compensate the current velocity over $\\mathbf{\\hat{a}_y}$ and $\\mathbf{\\hat{a}_z}$ axes, while the main acceleration is towards $\\mathbf{\\hat{a}_x}$.\n",
       "$a$ is normalized so that its magnitude equals $|a|$.\n"
      ],
      "text/plain": [
       "<IPython.core.display.Markdown object>"
      ]
     },
     "execution_count": 240,
     "metadata": {},
     "output_type": "execute_result"
    }
   ],
   "source": [
    "# F stands for \"force\", I need to find a better name\n",
    "compensate_y, compensate_z = symbols('F_y F_z')\n",
    "a_magnitude = symbols('|a|', nonnegative=True)\n",
    "\n",
    "a_vector = (\n",
    "    A.x * Piecewise((-1, T * R - dynamicsymbols._t < 0), (1, True)) +\n",
    "    A.y * compensate_y +\n",
    "    A.z * compensate_z\n",
    ").normalize() * a_magnitude * G\n",
    "\n",
    "Markdown(rf\"\"\"\n",
    "# Body motion\n",
    "\n",
    "## Acceleration\n",
    "\n",
    "Given:\n",
    "$${latex(a_magnitude)} \\quad G \\quad \\text{{ Acceleration magnitude, given }} G=9.81 m.s^{{-2}}$$\n",
    "\n",
    "Where $|a|$ is the perceived gravity within the object (regardless of the direction),\n",
    "\n",
    "We introduce:\n",
    "$$\n",
    "\\begin{{align*}}\n",
    "{latex(compensate_y)} \\quad m.s^{{-2}} \\quad & \\text{{Compensation acceleration over the }} {latex(A.y)} \\text{{ axis}} \\\\\n",
    "{latex(compensate_z)} \\quad m.s^{{-2}} \\quad & \\text{{Compensation acceleration over the }} {latex(A.z)} \\text{{ axis}} \\\\\n",
    "\\end{{align*}}\n",
    "$$\n",
    "\n",
    "We can now define:\n",
    "$$\n",
    "a = {latex(a_vector)}\n",
    "$$\n",
    "\n",
    "If $|a| = 1 G = 9.81 m.s^{{-2}}$, travelers inside the object will feel gravity equivalent to Earth.\n",
    "\n",
    "$F_y$ and $F_z$ are meant to compensate the current velocity over ${latex(A.y)}$ and ${latex(A.z)}$ axes, while the main acceleration is towards ${latex(A.x)}$.\n",
    "$a$ is normalized so that its magnitude equals $|a|$.\n",
    "\"\"\")"
   ]
  },
  {
   "cell_type": "code",
   "execution_count": 5,
   "metadata": {
    "jupyter": {
     "source_hidden": true
    }
   },
   "outputs": [
    {
     "data": {
      "text/markdown": [
       "\n",
       "## Initial Velocity\n",
       "\n",
       "Given:\n",
       "$$\n",
       "\\begin{align*}\n",
       "v^A_{0x} \\quad m.s^{-1} \\quad & \\text{Initial velocity over the } \\mathbf{\\hat{a}_x} \\text{ axis} \\\\\n",
       "v^A_{0y} \\quad m.s^{-1} \\quad & \\text{Initial velocity over the } \\mathbf{\\hat{a}_y} \\text{ axis} \\\\\n",
       "v^A_{0z} \\quad m.s^{-1} \\quad & \\text{Initial velocity over the } \\mathbf{\\hat{a}_z} \\text{ axis}\n",
       "\\end{align*}\n",
       "$$\n",
       "\n",
       "We introduce initial velocity:\n",
       "$$\n",
       "v_0 = v^A_{0x}\\mathbf{\\hat{a}_x} + v^A_{0y}\\mathbf{\\hat{a}_y} + v^A_{0z}\\mathbf{\\hat{a}_z}\n",
       "$$\n"
      ],
      "text/plain": [
       "<IPython.core.display.Markdown object>"
      ]
     },
     "execution_count": 5,
     "metadata": {},
     "output_type": "execute_result"
    }
   ],
   "source": [
    "v0x_a, v0y_a, v0z_a = symbols('v^A_{0x} v^A_{0y} v^A_{0z}')\n",
    "v0_vector = A.x * v0x_a + A.y * v0y_a + A.z * v0z_a\n",
    "\n",
    "Markdown(rf\"\"\"\n",
    "## Initial Velocity\n",
    "\n",
    "Given:\n",
    "$$\n",
    "\\begin{{align*}}\n",
    "{latex(v0x_a)} \\quad m.s^{{-1}} \\quad & \\text{{Initial velocity over the }} {latex(A.x)} \\text{{ axis}} \\\\\n",
    "{latex(v0y_a)} \\quad m.s^{{-1}} \\quad & \\text{{Initial velocity over the }} {latex(A.y)} \\text{{ axis}} \\\\\n",
    "{latex(v0z_a)} \\quad m.s^{{-1}} \\quad & \\text{{Initial velocity over the }} {latex(A.z)} \\text{{ axis}}\n",
    "\\end{{align*}}\n",
    "$$\n",
    "\n",
    "We introduce initial velocity:\n",
    "$$\n",
    "v_0 = {latex(v0_vector)}\n",
    "$$\n",
    "\"\"\")"
   ]
  },
  {
   "cell_type": "code",
   "execution_count": 6,
   "metadata": {
    "jupyter": {
     "source_hidden": true
    }
   },
   "outputs": [
    {
     "data": {
      "text/markdown": [
       "\n",
       "## Initial Position\n",
       "\n",
       "We have defined $A$ so that $p^A(0) = 0$.\n"
      ],
      "text/plain": [
       "<IPython.core.display.Markdown object>"
      ]
     },
     "execution_count": 6,
     "metadata": {},
     "output_type": "execute_result"
    }
   ],
   "source": [
    "Markdown(rf\"\"\"\n",
    "## Initial Position\n",
    "\n",
    "We have defined ${latex(A)}$ so that $p^A(0) = 0$.\n",
    "\"\"\")"
   ]
  },
  {
   "cell_type": "code",
   "execution_count": 244,
   "metadata": {},
   "outputs": [
    {
     "data": {
      "text/markdown": [
       "\n",
       "## Motion params\n",
       "\n",
       "By integrating $a$, and providing $v_0$ (and $d_0 = 0$), we obtain the velocity and position of the body at time $t$:\n",
       "\\begin{align*}\n",
       "a(t) =& \\frac{|a| \\left(\\begin{cases} -1 & \\text{for}\\: R T - t < 0 \\\\1 & \\text{otherwise} \\end{cases}\\right) \\text{G}}{\\sqrt{F_{y}^{2} + F_{z}^{2} + 1}}\\mathbf{\\hat{a}_x} + \\frac{F_{y} |a| \\text{G}}{\\sqrt{F_{y}^{2} + F_{z}^{2} + 1}}\\mathbf{\\hat{a}_y} + \\frac{F_{z} |a| \\text{G}}{\\sqrt{F_{y}^{2} + F_{z}^{2} + 1}}\\mathbf{\\hat{a}_z} \\\\\n",
       "v(t) =& \\frac{- t |a| \\text{G} + 2 |a| \\min\\left(t, R T\\right) \\text{G} + v^A_{0x} \\sqrt{F_{y}^{2} + F_{z}^{2} + 1}}{\\sqrt{F_{y}^{2} + F_{z}^{2} + 1}}\\mathbf{\\hat{a}_x} + (\\frac{F_{y} t |a| \\text{G}}{\\sqrt{F_{y}^{2} + F_{z}^{2} + 1}} + v^A_{0y})\\mathbf{\\hat{a}_y} + (\\frac{F_{z} t |a| \\text{G}}{\\sqrt{F_{y}^{2} + F_{z}^{2} + 1}} + v^A_{0z})\\mathbf{\\hat{a}_z} \\\\\n",
       "p(t) =& \\frac{2 R T t |a| \\text{G} - 2 R T |a| \\min\\left(t, R T\\right) \\text{G} - \\frac{t^{2} |a| \\text{G}}{2} + |a| \\min\\left(t, R T\\right)^{2} \\text{G} + t v^A_{0x} \\sqrt{F_{y}^{2} + F_{z}^{2} + 1}}{\\sqrt{F_{y}^{2} + F_{z}^{2} + 1}}\\mathbf{\\hat{a}_x} + (\\frac{F_{y} t^{2} |a| \\text{G}}{2 \\sqrt{F_{y}^{2} + F_{z}^{2} + 1}} + t v^A_{0y})\\mathbf{\\hat{a}_y} + (\\frac{F_{z} t^{2} |a| \\text{G}}{2 \\sqrt{F_{y}^{2} + F_{z}^{2} + 1}} + t v^A_{0z})\\mathbf{\\hat{a}_z}\n",
       "\\end{align*}\n"
      ],
      "text/plain": [
       "<IPython.core.display.Markdown object>"
      ]
     },
     "execution_count": 244,
     "metadata": {},
     "output_type": "execute_result"
    }
   ],
   "source": [
    "def replace_max_0_RT(f):\n",
    "    # Given that T >= 0 and R in [0, 1]:\n",
    "    #  We can say that max(0, R * T) = R * T\n",
    "    #  However sympy is not able to infer this, so we replace manually\n",
    "    return f.replace(Max, lambda a, b: (b if a == 0 else a_))\n",
    "\n",
    "original_a_fn, original_v_fn, original_p_fn = get_motion_params(\n",
    "    A,\n",
    "    acceleration=a_vector, \n",
    "    velocity=v0_vector\n",
    ")\n",
    "\n",
    "a_fn = original_a_fn.subs(dynamicsymbols._t, t)\n",
    "v_fn = original_v_fn.subs(dynamicsymbols._t, t).simplify()\n",
    "p_fn = original_p_fn.subs(dynamicsymbols._t, t).applyfunc(replace_max_0_RT).simplify()\n",
    "\n",
    "Markdown(rf\"\"\"\n",
    "## Motion params\n",
    "\n",
    "By integrating $a$, and providing $v_0$ (and $d_0 = 0$), we obtain the velocity and position of the body at time $t$:\n",
    "\\begin{{align*}}\n",
    "a(t) =& {latex(a_fn)} \\\\\n",
    "v(t) =& {latex(v_fn)} \\\\\n",
    "p(t) =& {latex(p_fn)}\n",
    "\\end{{align*}}\n",
    "\"\"\")"
   ]
  },
  {
   "cell_type": "code",
   "execution_count": 8,
   "metadata": {
    "jupyter": {
     "source_hidden": true
    }
   },
   "outputs": [
    {
     "data": {
      "text/markdown": [
       "\n",
       "# Solving $T$, $R$, $F_{y}$ and $F_{z}$\n",
       "\n",
       "Let us first introduce the velocity and position at time $T$.\n",
       "\n",
       "## Final position $p_T$\n",
       "Given:\n",
       "$$\n",
       "\\begin{align*}\n",
       "|d| \\quad m \\quad & \\text{Total distance to destination, to be reached at time } T \\\\\n",
       "\\end{align*}\n",
       "$$\n",
       "\n",
       "We introduce final position $p_T$. $A$ is oriented so that $p_T$ is aligned with $\\mathbf{\\hat{a}_x}$:\n",
       "$$\n",
       "p_T = |d|\\mathbf{\\hat{a}_x}\n",
       "$$\n"
      ],
      "text/plain": [
       "<IPython.core.display.Markdown object>"
      ]
     },
     "execution_count": 8,
     "metadata": {},
     "output_type": "execute_result"
    }
   ],
   "source": [
    "distance = symbols('|d|')\n",
    "pT_vector = A.x * distance\n",
    "\n",
    "Markdown(rf\"\"\"\n",
    "# Solving ${latex(T)}$, ${latex(R)}$, ${latex(compensate_y)}$ and ${latex(compensate_z)}$\n",
    "\n",
    "Let us first introduce the velocity and position at time $T$.\n",
    "\n",
    "## Final position $p_T$\n",
    "Given:\n",
    "$$\n",
    "\\begin{{align*}}\n",
    "{latex(distance)} \\quad m \\quad & \\text{{Total distance to destination, to be reached at time }} T \\\\\n",
    "\\end{{align*}}\n",
    "$$\n",
    "\n",
    "We introduce final position $p_T$. ${latex(A)}$ is oriented so that $p_T$ is aligned with ${latex(A.x)}$:\n",
    "$$\n",
    "p_T = {latex(pT_vector)}\n",
    "$$\n",
    "\"\"\")"
   ]
  },
  {
   "cell_type": "code",
   "execution_count": 9,
   "metadata": {
    "jupyter": {
     "source_hidden": true
    }
   },
   "outputs": [
    {
     "data": {
      "text/markdown": [
       "\n",
       "## Final Velocity $v_T$\n",
       "\n",
       "Given:\n",
       "$$\n",
       "\\begin{align*}\n",
       "v^A_{Tx} \\quad m.s^{-1} \\quad & \\text{Velocity at time } T \\text{ over the } \\mathbf{\\hat{a}_x} \\text{ axis} \\\\\n",
       "v^A_{Ty} \\quad m.s^{-1} \\quad & \\text{Velocity at time } T \\text{ over the } \\mathbf{\\hat{a}_y} \\text{ axis} \\\\\n",
       "v^A_{Tz} \\quad m.s^{-1} \\quad & \\text{Velocity at time } T \\text{ over the } \\mathbf{\\hat{a}_z} \\text{ axis}\n",
       "\\end{align*}\n",
       "$$\n",
       "\n",
       "We introduce final velocity $v_T$. This is the expected velocity at destination:\n",
       "$$\n",
       "v_T = v^A_{Tx}\\mathbf{\\hat{a}_x} + v^A_{Ty}\\mathbf{\\hat{a}_y} + v^A_{Tz}\\mathbf{\\hat{a}_z}\n",
       "$$\n"
      ],
      "text/plain": [
       "<IPython.core.display.Markdown object>"
      ]
     },
     "execution_count": 9,
     "metadata": {},
     "output_type": "execute_result"
    }
   ],
   "source": [
    "vTx_a, vTy_a, vTz_a = symbols('v^A_{Tx} v^A_{Ty} v^A_{Tz}')\n",
    "vT_vector = A.x * vTx_a + A.y * vTy_a + A.z * vTz_a\n",
    "\n",
    "Markdown(rf\"\"\"\n",
    "## Final Velocity $v_T$\n",
    "\n",
    "Given:\n",
    "$$\n",
    "\\begin{{align*}}\n",
    "{latex(vTx_a)} \\quad m.s^{{-1}} \\quad & \\text{{Velocity at time }} T \\text{{ over the }} {latex(A.x)} \\text{{ axis}} \\\\\n",
    "{latex(vTy_a)} \\quad m.s^{{-1}} \\quad & \\text{{Velocity at time }} T \\text{{ over the }} {latex(A.y)} \\text{{ axis}} \\\\\n",
    "{latex(vTz_a)} \\quad m.s^{{-1}} \\quad & \\text{{Velocity at time }} T \\text{{ over the }} {latex(A.z)} \\text{{ axis}}\n",
    "\\end{{align*}}\n",
    "$$\n",
    "\n",
    "We introduce final velocity $v_T$. This is the expected velocity at destination:\n",
    "$$\n",
    "v_T = {latex(vT_vector)}\n",
    "$$\n",
    "\"\"\")"
   ]
  },
  {
   "cell_type": "code",
   "execution_count": 245,
   "metadata": {},
   "outputs": [
    {
     "data": {
      "text/markdown": [
       "\n",
       "## Defining the problem set\n",
       "\n",
       "We recognize the following equalities:\n",
       "$$\n",
       "\\begin{equation}\n",
       "\\begin{cases}\n",
       "v_T = v(T) \\\\\n",
       "p_T = p(T)\n",
       "\\end{cases}\n",
       "\\end{equation}\n",
       "$$\n",
       "\n",
       "Which expands into:\n",
       "$$\n",
       "\\begin{equation}\n",
       "\\begin{cases}\n",
       "v^A_{Tx}\\mathbf{\\hat{a}_x} + v^A_{Ty}\\mathbf{\\hat{a}_y} + v^A_{Tz}\\mathbf{\\hat{a}_z} = \\frac{2 R T |a| \\text{G} - T |a| \\text{G} + v^A_{0x} \\sqrt{F_{y}^{2} + F_{z}^{2} + 1}}{\\sqrt{F_{y}^{2} + F_{z}^{2} + 1}}\\mathbf{\\hat{a}_x} + (\\frac{F_{y} T |a| \\text{G}}{\\sqrt{F_{y}^{2} + F_{z}^{2} + 1}} + v^A_{0y})\\mathbf{\\hat{a}_y} + (\\frac{F_{z} T |a| \\text{G}}{\\sqrt{F_{y}^{2} + F_{z}^{2} + 1}} + v^A_{0z})\\mathbf{\\hat{a}_z} \\\\\n",
       "|d|\\mathbf{\\hat{a}_x} = \\frac{- R^{2} T^{2} |a| \\text{G} + 2 R T^{2} |a| \\text{G} - \\frac{T^{2} |a| \\text{G}}{2} + T v^A_{0x} \\sqrt{F_{y}^{2} + F_{z}^{2} + 1}}{\\sqrt{F_{y}^{2} + F_{z}^{2} + 1}}\\mathbf{\\hat{a}_x} + (\\frac{F_{y} T^{2} |a| \\text{G}}{2 \\sqrt{F_{y}^{2} + F_{z}^{2} + 1}} + T v^A_{0y})\\mathbf{\\hat{a}_y} + (\\frac{F_{z} T^{2} |a| \\text{G}}{2 \\sqrt{F_{y}^{2} + F_{z}^{2} + 1}} + T v^A_{0z})\\mathbf{\\hat{a}_z}\n",
       "\\end{cases}\n",
       "\\end{equation}\n",
       "$$\n",
       "\n",
       "By isolating components and balancing the equation, this translates into the following problem set:\n",
       "\\begin{equation}\n",
       "\\left[\\begin{matrix}- \\frac{2 R T |a| \\text{G}}{\\sqrt{F_{y}^{2} + F_{z}^{2} + 1}} + \\frac{T |a| \\text{G}}{\\sqrt{F_{y}^{2} + F_{z}^{2} + 1}} - v^A_{0x} + v^A_{Tx}\\\\- \\frac{F_{y} T |a| \\text{G}}{\\sqrt{F_{y}^{2} + F_{z}^{2} + 1}} - v^A_{0y} + v^A_{Ty}\\\\- \\frac{F_{z} T |a| \\text{G}}{\\sqrt{F_{y}^{2} + F_{z}^{2} + 1}} - v^A_{0z} + v^A_{Tz}\\\\\\frac{R^{2} T^{2} |a| \\text{G} - 2 R T^{2} |a| \\text{G} + \\frac{T^{2} |a| \\text{G}}{2} - T v^A_{0x} \\sqrt{F_{y}^{2} + F_{z}^{2} + 1} + |d| \\sqrt{F_{y}^{2} + F_{z}^{2} + 1}}{\\sqrt{F_{y}^{2} + F_{z}^{2} + 1}}\\\\- \\frac{F_{y} T^{2} |a| \\text{G}}{2 \\sqrt{F_{y}^{2} + F_{z}^{2} + 1}} - T v^A_{0y}\\\\- \\frac{F_{z} T^{2} |a| \\text{G}}{2 \\sqrt{F_{y}^{2} + F_{z}^{2} + 1}} - T v^A_{0z}\\end{matrix}\\right]\n",
       "\\end{equation}\n",
       "\n",
       "We need to solve the following unknowns: $T$, $R$, $F_y$ and $F_z$\n"
      ],
      "text/plain": [
       "<IPython.core.display.Markdown object>"
      ]
     },
     "execution_count": 245,
     "metadata": {},
     "output_type": "execute_result"
    }
   ],
   "source": [
    "def replace_min_T(f):\n",
    "    # Given that T >= 0 and R in [0, 1]:\n",
    "    #  We can say that min(t, R * T) = R * T\n",
    "    #  However sympy is not able to infer this, so we replace manually\n",
    "    return f.replace(Min(T, R*T), R*T)\n",
    "\n",
    "\n",
    "# TODO: Re-introduce v0_y and vT_y\n",
    "v_fn_T = v_fn.subs(t, T).applyfunc(replace_min_T)#.subs({v0y_a: 0, v0z_a: 0, vTy_a: 0, vTz_a: 0})\n",
    "p_fn_T = p_fn.subs(t, T).applyfunc(replace_min_T)#.subs({v0y_a: 0, v0z_a: 0, vTy_a: 0, vTz_a: 0})\n",
    "\n",
    "eq_matrix = (\n",
    "    vT_vector.to_matrix(A).col_join(pT_vector.to_matrix(A)) - \\\n",
    "    v_fn_T.to_matrix(A).col_join(p_fn_T.to_matrix(A))\n",
    ").simplify()\n",
    "\n",
    "Markdown(rf\"\"\"\n",
    "## Defining the problem set\n",
    "\n",
    "We recognize the following equalities:\n",
    "$$\n",
    "\\begin{{equation}}\n",
    "\\begin{{cases}}\n",
    "v_T = v(T) \\\\\n",
    "p_T = p(T)\n",
    "\\end{{cases}}\n",
    "\\end{{equation}}\n",
    "$$\n",
    "\n",
    "Which expands into:\n",
    "$$\n",
    "\\begin{{equation}}\n",
    "\\begin{{cases}}\n",
    "{latex(vT_vector)} = {latex(v_fn_T)} \\\\\n",
    "{latex(pT_vector)} = {latex(p_fn_T)}\n",
    "\\end{{cases}}\n",
    "\\end{{equation}}\n",
    "$$\n",
    "\n",
    "By isolating components and balancing the equation, this translates into the following problem set:\n",
    "\\begin{{equation}}\n",
    "{latex(eq_matrix)}\n",
    "\\end{{equation}}\n",
    "\n",
    "We need to solve the following unknowns: $T$, $R$, $F_y$ and $F_z$\n",
    "\"\"\")"
   ]
  },
  {
   "cell_type": "code",
   "execution_count": 268,
   "metadata": {},
   "outputs": [
    {
     "data": {
      "text/latex": [
       "$\\displaystyle \\emptyset$"
      ],
      "text/plain": [
       "EmptySet"
      ]
     },
     "execution_count": 268,
     "metadata": {},
     "output_type": "execute_result"
    }
   ],
   "source": [
    "# nonlinsolve(\n",
    "#     [eq_matrix[1] - eq_matrix[4], eq_matrix[2] - eq_matrix[5]],\n",
    "#     [compensate_y, compensate_z]\n",
    "# )\n",
    "# from sympy import S\n",
    "# solved_Fy = solveset(eq_matrix[1] - eq_matrix[4], compensate_y, domain=S.Reals)\n",
    "# solved_Fy\n",
    "# tmp = eq_matrix.subs({compensate_y: solved_Fy})\n",
    "# solveset(tmp[2] - tmp[5], compensate_z)"
   ]
  },
  {
   "cell_type": "code",
   "execution_count": 246,
   "metadata": {},
   "outputs": [
    {
     "data": {
      "text/markdown": [
       "\n",
       "### Solving $F_{y}$ and $F_{z}$\n",
       "\n",
       "We first focus on solving $F_{y}$ and $F_{z}$.\n",
       "\n",
       "This solves into: $\\{F_{y}, F_{z}\\} = \\left\\{\\left( - 2 v^A_{0y} \\sqrt{- \\frac{1}{- T^{2} |a|^{2} \\text{G}^{2} + 4 \\left(v^A_{0y}\\right)^{2} + 4 \\left(v^A_{0z}\\right)^{2}}}, \\  - 2 v^A_{0z} \\sqrt{- \\frac{1}{- T^{2} |a|^{2} \\text{G}^{2} + 4 \\left(v^A_{0y}\\right)^{2} + 4 \\left(v^A_{0z}\\right)^{2}}}\\right), \\left( - 2 v^A_{0y} \\sqrt{- \\frac{1}{- T^{2} |a|^{2} \\text{G}^{2} + 4 \\left(v^A_{0y}\\right)^{2} + 4 \\left(v^A_{0z}\\right)^{2}}}, \\  2 v^A_{0z} \\sqrt{- \\frac{1}{- T^{2} |a|^{2} \\text{G}^{2} + 4 \\left(v^A_{0y}\\right)^{2} + 4 \\left(v^A_{0z}\\right)^{2}}}\\right), \\left( 2 v^A_{0y} \\sqrt{- \\frac{1}{- T^{2} |a|^{2} \\text{G}^{2} + 4 \\left(v^A_{0y}\\right)^{2} + 4 \\left(v^A_{0z}\\right)^{2}}}, \\  - 2 v^A_{0z} \\sqrt{- \\frac{1}{- T^{2} |a|^{2} \\text{G}^{2} + 4 \\left(v^A_{0y}\\right)^{2} + 4 \\left(v^A_{0z}\\right)^{2}}}\\right), \\left( 2 v^A_{0y} \\sqrt{- \\frac{1}{- T^{2} |a|^{2} \\text{G}^{2} + 4 \\left(v^A_{0y}\\right)^{2} + 4 \\left(v^A_{0z}\\right)^{2}}}, \\  2 v^A_{0z} \\sqrt{- \\frac{1}{- T^{2} |a|^{2} \\text{G}^{2} + 4 \\left(v^A_{0y}\\right)^{2} + 4 \\left(v^A_{0z}\\right)^{2}}}\\right)\\right\\}$\n"
      ],
      "text/plain": [
       "<IPython.core.display.Markdown object>"
      ]
     },
     "execution_count": 246,
     "metadata": {},
     "output_type": "execute_result"
    }
   ],
   "source": [
    "result_compensate = nonlinsolve(\n",
    "    eq_matrix,\n",
    "    [compensate_y, compensate_z]\n",
    ")\n",
    "\n",
    "# TODO: Turn it into a singleton\n",
    "solved_Fy, solved_Fz = list(result_compensate)[0]\n",
    "\n",
    "Markdown(rf\"\"\"\n",
    "### Solving ${latex(compensate_y)}$ and ${latex(compensate_z)}$\n",
    "\n",
    "We first focus on solving ${latex(compensate_y)}$ and ${latex(compensate_z)}$.\n",
    "\n",
    "This solves into: $\\{{{latex(compensate_y)}, {latex(compensate_z)}\\}} = {latex(result_compensate)}$\n",
    "\"\"\")"
   ]
  },
  {
   "cell_type": "code",
   "execution_count": 225,
   "metadata": {},
   "outputs": [
    {
     "data": {
      "text/markdown": [
       "\n",
       "### Solving $R$\n",
       "\n",
       "We now focus on solving $R$.\n",
       "The first equality is enough to solve it: $\\frac{- 2 R T |a| \\text{G} + T |a| \\text{G} + \\left(- v^A_{0x} + v^A_{Tx}\\right) \\sqrt{F_{y}^{2} + F_{z}^{2} + 1}}{\\sqrt{F_{y}^{2} + F_{z}^{2} + 1}} = 0$.\n",
       "\n",
       "After substuting $F_{y}$ and $F_{z}$, this solves into $R = \\left\\{\\frac{T |a| \\text{G} - \\left(v^A_{0x} - v^A_{Tx}\\right) \\sqrt{- \\frac{4 \\left(v^A_{0y}\\right)^{2}}{- T^{2} |a|^{2} \\text{G}^{2} + 4 \\left(v^A_{0y}\\right)^{2} + 4 \\left(v^A_{0z}\\right)^{2}} - \\frac{4 \\left(v^A_{0z}\\right)^{2}}{- T^{2} |a|^{2} \\text{G}^{2} + 4 \\left(v^A_{0y}\\right)^{2} + 4 \\left(v^A_{0z}\\right)^{2}} + 1}}{2 T |a| \\text{G}}\\right\\}$\n"
      ],
      "text/plain": [
       "<IPython.core.display.Markdown object>"
      ]
     },
     "execution_count": 225,
     "metadata": {},
     "output_type": "execute_result"
    }
   ],
   "source": [
    "result_R = solveset(eq_matrix[0].subs({compensate_y: solved_Fy, compensate_z: solved_Fz}), R)\n",
    "\n",
    "solved_R = list(result_R)[0]\n",
    "\n",
    "Markdown(rf\"\"\"\n",
    "### Solving $R$\n",
    "\n",
    "We now focus on solving $R$.\n",
    "The first equality is enough to solve it: ${latex(eq_matrix[0])} = 0$.\n",
    "\n",
    "After substuting ${latex(compensate_y)}$ and ${latex(compensate_z)}$, this solves into $R = {latex(result_R)}$\n",
    "\"\"\")"
   ]
  },
  {
   "cell_type": "code",
   "execution_count": 226,
   "metadata": {},
   "outputs": [
    {
     "data": {
      "text/markdown": [
       "\n",
       "### Solving $T$\n",
       "\n",
       "We first focus on solving $T$.\n",
       "The first equality is enough to solve it: $\\frac{- 2 R T |a| \\text{G} + T |a| \\text{G} + \\left(- v^A_{0x} + v^A_{Tx}\\right) \\sqrt{F_{y}^{2} + F_{z}^{2} + 1}}{\\sqrt{F_{y}^{2} + F_{z}^{2} + 1}} = 0$.\n",
       "\n",
       "After substuting $R$, $F_{y}$ and $F_{z}$, the problem set is reduced to: $\\left[\\begin{matrix}0\\\\v^A_{0y} + v^A_{Ty}\\\\v^A_{0z} + v^A_{Tz}\\\\- T v^A_{Tx} + \\frac{T \\left(- v^A_{0x} \\sqrt{- \\frac{1}{- T^{2} |a|^{2} \\text{G}^{2} + 4 \\left(v^A_{0y}\\right)^{2} + 4 \\left(v^A_{0z}\\right)^{2}}} + v^A_{Tx} \\sqrt{- \\frac{1}{- T^{2} |a|^{2} \\text{G}^{2} + 4 \\left(v^A_{0y}\\right)^{2} + 4 \\left(v^A_{0z}\\right)^{2}}} + 1\\right)^{2}}{4 \\sqrt{- \\frac{1}{- T^{2} |a|^{2} \\text{G}^{2} + 4 \\left(v^A_{0y}\\right)^{2} + 4 \\left(v^A_{0z}\\right)^{2}}}} - \\frac{T}{2 \\sqrt{- \\frac{1}{- T^{2} |a|^{2} \\text{G}^{2} + 4 \\left(v^A_{0y}\\right)^{2} + 4 \\left(v^A_{0z}\\right)^{2}}}} + |d|\\\\0\\\\0\\end{matrix}\\right]$\n",
       "\n",
       "This solves into $T = \\left\\{T \\mid T \\in \\mathbb{C} \\wedge 4 T^{6} \\left(v^A_{0x}\\right)^{2} |a|^{4} \\text{G}^{4} + 8 T^{6} v^A_{0x} v^A_{Tx} |a|^{4} \\text{G}^{4} + 4 T^{6} \\left(v^A_{Tx}\\right)^{2} |a|^{4} \\text{G}^{4} + T^{6} |a|^{4} \\left(- T^{2} |a|^{2} \\text{G}^{2} + 4 \\left(v^A_{0y}\\right)^{2} + 4 \\left(v^A_{0z}\\right)^{2}\\right) \\text{G}^{4} - 16 T^{5} v^A_{0x} |a|^{4} |d| \\text{G}^{4} - 16 T^{5} v^A_{Tx} |a|^{4} |d| \\text{G}^{4} + 16 T^{4} |a|^{4} |d|^{2} \\text{G}^{4} - 32 T^{4} \\left(v^A_{0x}\\right)^{2} \\left(v^A_{0y}\\right)^{2} |a|^{2} \\text{G}^{2} - 32 T^{4} \\left(v^A_{0x}\\right)^{2} \\left(v^A_{0z}\\right)^{2} |a|^{2} \\text{G}^{2} - 2 T^{4} \\left(v^A_{0x}\\right)^{2} |a|^{2} \\left(- T^{2} |a|^{2} \\text{G}^{2} + 4 \\left(v^A_{0y}\\right)^{2} + 4 \\left(v^A_{0z}\\right)^{2}\\right) \\text{G}^{2} - 64 T^{4} v^A_{0x} \\left(v^A_{0y}\\right)^{2} v^A_{Tx} |a|^{2} \\text{G}^{2} - 64 T^{4} v^A_{0x} \\left(v^A_{0z}\\right)^{2} v^A_{Tx} |a|^{2} \\text{G}^{2} + 4 T^{4} v^A_{0x} v^A_{Tx} |a|^{2} \\left(- T^{2} |a|^{2} \\text{G}^{2} + 4 \\left(v^A_{0y}\\right)^{2} + 4 \\left(v^A_{0z}\\right)^{2}\\right) \\text{G}^{2} - 32 T^{4} \\left(v^A_{0y}\\right)^{2} \\left(v^A_{Tx}\\right)^{2} |a|^{2} \\text{G}^{2} - 8 T^{4} \\left(v^A_{0y}\\right)^{2} |a|^{2} \\left(- T^{2} |a|^{2} \\text{G}^{2} + 4 \\left(v^A_{0y}\\right)^{2} + 4 \\left(v^A_{0z}\\right)^{2}\\right) \\text{G}^{2} - 32 T^{4} \\left(v^A_{0z}\\right)^{2} \\left(v^A_{Tx}\\right)^{2} |a|^{2} \\text{G}^{2} - 8 T^{4} \\left(v^A_{0z}\\right)^{2} |a|^{2} \\left(- T^{2} |a|^{2} \\text{G}^{2} + 4 \\left(v^A_{0y}\\right)^{2} + 4 \\left(v^A_{0z}\\right)^{2}\\right) \\text{G}^{2} - 2 T^{4} \\left(v^A_{Tx}\\right)^{2} |a|^{2} \\left(- T^{2} |a|^{2} \\text{G}^{2} + 4 \\left(v^A_{0y}\\right)^{2} + 4 \\left(v^A_{0z}\\right)^{2}\\right) \\text{G}^{2} + 128 T^{3} v^A_{0x} \\left(v^A_{0y}\\right)^{2} |a|^{2} |d| \\text{G}^{2} + 128 T^{3} v^A_{0x} \\left(v^A_{0z}\\right)^{2} |a|^{2} |d| \\text{G}^{2} + 128 T^{3} \\left(v^A_{0y}\\right)^{2} v^A_{Tx} |a|^{2} |d| \\text{G}^{2} + 128 T^{3} \\left(v^A_{0z}\\right)^{2} v^A_{Tx} |a|^{2} |d| \\text{G}^{2} - 128 T^{2} \\left(v^A_{0y}\\right)^{2} |a|^{2} |d|^{2} \\text{G}^{2} - 128 T^{2} \\left(v^A_{0z}\\right)^{2} |a|^{2} |d|^{2} \\text{G}^{2} + T^{2} \\left(v^A_{0x}\\right)^{4} \\left(- T^{2} |a|^{2} \\text{G}^{2} + 4 \\left(v^A_{0y}\\right)^{2} + 4 \\left(v^A_{0z}\\right)^{2}\\right) - 4 T^{2} \\left(v^A_{0x}\\right)^{3} v^A_{Tx} \\left(- T^{2} |a|^{2} \\text{G}^{2} + 4 \\left(v^A_{0y}\\right)^{2} + 4 \\left(v^A_{0z}\\right)^{2}\\right) + 64 T^{2} \\left(v^A_{0x}\\right)^{2} \\left(v^A_{0y}\\right)^{4} + 128 T^{2} \\left(v^A_{0x}\\right)^{2} \\left(v^A_{0y}\\right)^{2} \\left(v^A_{0z}\\right)^{2} + 8 T^{2} \\left(v^A_{0x}\\right)^{2} \\left(v^A_{0y}\\right)^{2} \\left(- T^{2} |a|^{2} \\text{G}^{2} + 4 \\left(v^A_{0y}\\right)^{2} + 4 \\left(v^A_{0z}\\right)^{2}\\right) + 64 T^{2} \\left(v^A_{0x}\\right)^{2} \\left(v^A_{0z}\\right)^{4} + 8 T^{2} \\left(v^A_{0x}\\right)^{2} \\left(v^A_{0z}\\right)^{2} \\left(- T^{2} |a|^{2} \\text{G}^{2} + 4 \\left(v^A_{0y}\\right)^{2} + 4 \\left(v^A_{0z}\\right)^{2}\\right) + 6 T^{2} \\left(v^A_{0x}\\right)^{2} \\left(v^A_{Tx}\\right)^{2} \\left(- T^{2} |a|^{2} \\text{G}^{2} + 4 \\left(v^A_{0y}\\right)^{2} + 4 \\left(v^A_{0z}\\right)^{2}\\right) + 128 T^{2} v^A_{0x} \\left(v^A_{0y}\\right)^{4} v^A_{Tx} + 256 T^{2} v^A_{0x} \\left(v^A_{0y}\\right)^{2} \\left(v^A_{0z}\\right)^{2} v^A_{Tx} - 16 T^{2} v^A_{0x} \\left(v^A_{0y}\\right)^{2} v^A_{Tx} \\left(- T^{2} |a|^{2} \\text{G}^{2} + 4 \\left(v^A_{0y}\\right)^{2} + 4 \\left(v^A_{0z}\\right)^{2}\\right) + 128 T^{2} v^A_{0x} \\left(v^A_{0z}\\right)^{4} v^A_{Tx} - 16 T^{2} v^A_{0x} \\left(v^A_{0z}\\right)^{2} v^A_{Tx} \\left(- T^{2} |a|^{2} \\text{G}^{2} + 4 \\left(v^A_{0y}\\right)^{2} + 4 \\left(v^A_{0z}\\right)^{2}\\right) - 4 T^{2} v^A_{0x} \\left(v^A_{Tx}\\right)^{3} \\left(- T^{2} |a|^{2} \\text{G}^{2} + 4 \\left(v^A_{0y}\\right)^{2} + 4 \\left(v^A_{0z}\\right)^{2}\\right) + 64 T^{2} \\left(v^A_{0y}\\right)^{4} \\left(v^A_{Tx}\\right)^{2} + 16 T^{2} \\left(v^A_{0y}\\right)^{4} \\left(- T^{2} |a|^{2} \\text{G}^{2} + 4 \\left(v^A_{0y}\\right)^{2} + 4 \\left(v^A_{0z}\\right)^{2}\\right) + 128 T^{2} \\left(v^A_{0y}\\right)^{2} \\left(v^A_{0z}\\right)^{2} \\left(v^A_{Tx}\\right)^{2} + 32 T^{2} \\left(v^A_{0y}\\right)^{2} \\left(v^A_{0z}\\right)^{2} \\left(- T^{2} |a|^{2} \\text{G}^{2} + 4 \\left(v^A_{0y}\\right)^{2} + 4 \\left(v^A_{0z}\\right)^{2}\\right) + 8 T^{2} \\left(v^A_{0y}\\right)^{2} \\left(v^A_{Tx}\\right)^{2} \\left(- T^{2} |a|^{2} \\text{G}^{2} + 4 \\left(v^A_{0y}\\right)^{2} + 4 \\left(v^A_{0z}\\right)^{2}\\right) + 64 T^{2} \\left(v^A_{0z}\\right)^{4} \\left(v^A_{Tx}\\right)^{2} + 16 T^{2} \\left(v^A_{0z}\\right)^{4} \\left(- T^{2} |a|^{2} \\text{G}^{2} + 4 \\left(v^A_{0y}\\right)^{2} + 4 \\left(v^A_{0z}\\right)^{2}\\right) + 8 T^{2} \\left(v^A_{0z}\\right)^{2} \\left(v^A_{Tx}\\right)^{2} \\left(- T^{2} |a|^{2} \\text{G}^{2} + 4 \\left(v^A_{0y}\\right)^{2} + 4 \\left(v^A_{0z}\\right)^{2}\\right) + T^{2} \\left(v^A_{Tx}\\right)^{4} \\left(- T^{2} |a|^{2} \\text{G}^{2} + 4 \\left(v^A_{0y}\\right)^{2} + 4 \\left(v^A_{0z}\\right)^{2}\\right) - 256 T v^A_{0x} \\left(v^A_{0y}\\right)^{4} |d| - 512 T v^A_{0x} \\left(v^A_{0y}\\right)^{2} \\left(v^A_{0z}\\right)^{2} |d| - 256 T v^A_{0x} \\left(v^A_{0z}\\right)^{4} |d| - 256 T \\left(v^A_{0y}\\right)^{4} v^A_{Tx} |d| - 512 T \\left(v^A_{0y}\\right)^{2} \\left(v^A_{0z}\\right)^{2} v^A_{Tx} |d| - 256 T \\left(v^A_{0z}\\right)^{4} v^A_{Tx} |d| + 256 \\left(v^A_{0y}\\right)^{4} |d|^{2} + 512 \\left(v^A_{0y}\\right)^{2} \\left(v^A_{0z}\\right)^{2} |d|^{2} + 256 \\left(v^A_{0z}\\right)^{4} |d|^{2} = 0 \\right\\} \\setminus \\left\\{- \\frac{\\sqrt{4 \\left(v^A_{0y}\\right)^{2} + 4 \\left(v^A_{0z}\\right)^{2}}}{|a| \\text{G}}, \\frac{\\sqrt{4 \\left(v^A_{0y}\\right)^{2} + 4 \\left(v^A_{0z}\\right)^{2}}}{|a| \\text{G}}\\right\\}$\n"
      ],
      "text/plain": [
       "<IPython.core.display.Markdown object>"
      ]
     },
     "execution_count": 226,
     "metadata": {},
     "output_type": "execute_result"
    }
   ],
   "source": [
    "intermediate_matrix = eq_matrix.subs({compensate_y: solved_Fy, compensate_z: solved_Fz, R: solved_R}).simplify()\n",
    "\n",
    "# result_T = nonlinsolve(intermediate_matrix, [T])\n",
    "result_T = solveset(intermediate_matrix[3], T)\n",
    "# solved_T = list(result_T)[0]\n",
    "\n",
    "# FIXME: We expect intermediate_matrix[1] and intermediate_matrix[2] to solve depending of T\n",
    "\n",
    "Markdown(rf\"\"\"\n",
    "### Solving $T$\n",
    "\n",
    "We first focus on solving $T$.\n",
    "The first equality is enough to solve it: ${latex(eq_matrix[0])} = 0$.\n",
    "\n",
    "After substuting ${latex(R)}$, ${latex(compensate_y)}$ and ${latex(compensate_z)}$, the problem set is reduced to: ${latex(intermediate_matrix)}$\n",
    "\n",
    "This solves into $T = {latex(result_T.simplify())}$\n",
    "\"\"\")"
   ]
  },
  {
   "cell_type": "code",
   "execution_count": 12,
   "metadata": {
    "jupyter": {
     "source_hidden": true
    }
   },
   "outputs": [
    {
     "data": {
      "text/markdown": [
       "\n",
       "# Coordinates in the Inertial Frame $N$\n",
       "\n",
       "All coordinates are defined by the user in the inertial frame $N$:\n",
       "$$\n",
       "\\begin{align*}\n",
       "v_0 &= v^N_{0x}\\mathbf{\\hat{n}_x} + v^N_{0y}\\mathbf{\\hat{n}_y} + v^N_{0z}\\mathbf{\\hat{n}_z} \\quad & m.s^{-1} \\quad & \\text{ Velocity at } t_0 \\\\\n",
       "v_T &= v^N_{Tx}\\mathbf{\\hat{n}_x} + v^N_{Ty}\\mathbf{\\hat{n}_y} + v^N_{Tz}\\mathbf{\\hat{n}_z} \\quad & m.s^{-1} \\quad & \\text{ Velocity at destination} \\\\\n",
       "p_0 &= p^N_{0x}\\mathbf{\\hat{n}_x} + p^N_{0y}\\mathbf{\\hat{n}_y} + p^N_{0z}\\mathbf{\\hat{n}_z} \\quad & m \\quad & \\text{ Position at } t_0 \\\\\n",
       "p_T &= p^N_{Tx}\\mathbf{\\hat{n}_x} + p^N_{Ty}\\mathbf{\\hat{n}_y} + p^N_{Tz}\\mathbf{\\hat{n}_z} \\quad & m \\quad & \\text{ Position at destination} \\\\\n",
       "\\end{align*}\n",
       "$$\n"
      ],
      "text/plain": [
       "<IPython.core.display.Markdown object>"
      ]
     },
     "execution_count": 12,
     "metadata": {},
     "output_type": "execute_result"
    }
   ],
   "source": [
    "p0x_n, p0y_n, p0z_n = symbols('p^N_{0x} p^N_{0y} p^N_{0z}')\n",
    "pTx_n, pTy_n, pTz_n = symbols('p^N_{Tx} p^N_{Ty} p^N_{Tz}')\n",
    "p0_vector_N = N.x * p0x_n + N.y * p0y_n + N.z * p0z_n\n",
    "pT_vector_N = N.x * pTx_n + N.y * pTy_n + N.z * pTz_n\n",
    "\n",
    "v0x_n, v0y_n, v0z_n = symbols('v^N_{0x} v^N_{0y} v^N_{0z}')\n",
    "vTx_n, vTy_n, vTz_n = symbols('v^N_{Tx} v^N_{Ty} v^N_{Tz}')\n",
    "v0_vector_N = (N.x * v0x_n + N.y * v0y_n + N.z * v0z_n)\n",
    "vT_vector_N = (N.x * vTx_n + N.y * vTy_n + N.z * vTz_n)\n",
    "\n",
    "Markdown(rf\"\"\"\n",
    "# Coordinates in the Inertial Frame $N$\n",
    "\n",
    "All coordinates are defined by the user in the inertial frame $N$:\n",
    "$$\n",
    "\\begin{{align*}}\n",
    "v_0 &= {latex(v0_vector_N)} \\quad & m.s^{{-1}} \\quad & \\text{{ Velocity at }} t_0 \\\\\n",
    "v_T &= {latex(vT_vector_N)} \\quad & m.s^{{-1}} \\quad & \\text{{ Velocity at destination}} \\\\\n",
    "p_0 &= {latex(p0_vector_N)} \\quad & m \\quad & \\text{{ Position at }} t_0 \\\\\n",
    "p_T &= {latex(pT_vector_N)} \\quad & m \\quad & \\text{{ Position at destination}} \\\\\n",
    "\\end{{align*}}\n",
    "$$\n",
    "\"\"\")"
   ]
  },
  {
   "cell_type": "code",
   "execution_count": 20,
   "metadata": {
    "jupyter": {
     "source_hidden": true
    }
   },
   "outputs": [
    {
     "data": {
      "text/markdown": [
       "\n",
       "## Orienting reference frame $A$ relative to $N$\n",
       "\n",
       "Let us first introduce the direction unit vector:\n",
       "$$\n",
       "\\begin{align*}\n",
       "\\vec{d} & = \\frac{p_T - p_0}{|p_T - p_0|} \\\\\n",
       "          & = \\frac{- p^N_{0x} + p^N_{Tx}}{\\sqrt{\\left(- p^N_{0x} + p^N_{Tx}\\right)^{2} + \\left(- p^N_{0y} + p^N_{Ty}\\right)^{2} + \\left(- p^N_{0z} + p^N_{Tz}\\right)^{2}}}\\mathbf{\\hat{n}_x} + \\frac{- p^N_{0y} + p^N_{Ty}}{\\sqrt{\\left(- p^N_{0x} + p^N_{Tx}\\right)^{2} + \\left(- p^N_{0y} + p^N_{Ty}\\right)^{2} + \\left(- p^N_{0z} + p^N_{Tz}\\right)^{2}}}\\mathbf{\\hat{n}_y} + \\frac{- p^N_{0z} + p^N_{Tz}}{\\sqrt{\\left(- p^N_{0x} + p^N_{Tx}\\right)^{2} + \\left(- p^N_{0y} + p^N_{Ty}\\right)^{2} + \\left(- p^N_{0z} + p^N_{Tz}\\right)^{2}}}\\mathbf{\\hat{n}_z}\n",
       "\\end{align*}\n",
       "$$\n",
       "\n",
       "We want to align the object direction with $\\mathbf{\\hat{a}_x}$. In other words, we want to orient $A$ relative to $N$, so that $\\vec{d} = |d| \\mathbf{\\hat{a}_x}$.\n",
       "\n",
       "We need to define a DCM (Direction Cosine Matrix) $[AN]$, so that $A = [AN] \\times N$.\n",
       "\n",
       "Generally, a DCM is defined as:\n",
       "$$\n",
       "\\text{DCM} = \\begin{vmatrix}\n",
       "a_{11} & a_{12} & a_{13} \\\\\n",
       "a_{21} & a_{22} & a_{23} \\\\\n",
       "a_{31} & a_{32} & a_{33}\n",
       "\\end{vmatrix}\n",
       "$$\n",
       "\n",
       "### Orienting $\\mathbf{\\hat{a}_x}$\n",
       "\n",
       "We can easily infer the first row of $[AN]$:\n",
       "$$\n",
       "\\begin{align*}\n",
       "\\mathbf{\\hat{a}_x} &= a_{11} \\mathbf{\\hat{n}_x} + a_{12} \\mathbf{\\hat{n}_y} + a_{13} \\mathbf{\\hat{n}_z} \\\\\n",
       "             &= \\frac{- p^N_{0x} + p^N_{Tx}}{\\sqrt{\\left(- p^N_{0x} + p^N_{Tx}\\right)^{2} + \\left(- p^N_{0y} + p^N_{Ty}\\right)^{2} + \\left(- p^N_{0z} + p^N_{Tz}\\right)^{2}}}\\mathbf{\\hat{n}_x} + \\frac{- p^N_{0y} + p^N_{Ty}}{\\sqrt{\\left(- p^N_{0x} + p^N_{Tx}\\right)^{2} + \\left(- p^N_{0y} + p^N_{Ty}\\right)^{2} + \\left(- p^N_{0z} + p^N_{Tz}\\right)^{2}}}\\mathbf{\\hat{n}_y} + \\frac{- p^N_{0z} + p^N_{Tz}}{\\sqrt{\\left(- p^N_{0x} + p^N_{Tx}\\right)^{2} + \\left(- p^N_{0y} + p^N_{Ty}\\right)^{2} + \\left(- p^N_{0z} + p^N_{Tz}\\right)^{2}}}\\mathbf{\\hat{n}_z}\n",
       "\\end{align*}\n",
       "$$\n",
       "\n",
       "### Orienting $\\mathbf{\\hat{a}_y}$\n",
       "\n",
       "Now for the second row, we need the rotation matrix Rot so that $\\mathbf{\\hat{a}_x} = \\text{Rot} \\times \\mathbf{\\hat{n}_x}$\n",
       "We will use [Rodrigues rotation fomula](https://en.wikipedia.org/wiki/Rodrigues%27_rotation_formula) to calculate $\\text{Rot}$.\n",
       "\n",
       "We introduce $c$ as the dot-product of $\\mathbf{\\hat{n}_x}$ and $\\mathbf{\\hat{a}_x}$ ($c$ is the cosine of the angle between $\\mathbf{\\hat{n}_x}$ and $\\mathbf{\\hat{a}_x}$).\n",
       "We then introduce $v$ as the cross-product of $\\mathbf{\\hat{n}_x}$ and $\\mathbf{\\hat{a}_x}$, and $K$ as:\n",
       "$$\n",
       "K = \\begin{vmatrix}\n",
       "0 & - v_z & v_y \\\\\n",
       "v_z & 0 & - v_x \\\\\n",
       "- v_y & v_x & 0\n",
       "\\end{vmatrix}\n",
       "$$\n",
       "\n",
       "Thanks to Rodrigues rotation formula, we calculate that:\n",
       "$$\n",
       "\\text{Rot} = I_3 + K + K^2 \\times \\frac{1 - c}{1 - c^2}\n",
       "$$\n",
       "\n",
       "We then obtain $\\mathbf{\\hat{a}_y} = \\text{Rot} \\times \\mathbf{\\hat{n}_y}$.\n",
       "\n",
       "### Orienting $\\mathbf{\\hat{a}_z}$\n",
       "\n",
       "Finally, for the third row, we simply use the cross-product of $\\mathbf{\\hat{a}_x}$ and $\\mathbf{\\hat{a}_y}$.\n",
       "\n",
       "### Validating DCM\n",
       "\n",
       "We can validate the DCM by expressing $p_T - p_0$ in both $N$ and $A$.\n",
       "\n",
       "$$\n",
       "\\begin{align*}\n",
       "p_T - p_0 & = (- p^N_{0x} + p^N_{Tx})\\mathbf{\\hat{n}_x} + (- p^N_{0y} + p^N_{Ty})\\mathbf{\\hat{n}_y} + (- p^N_{0z} + p^N_{Tz})\\mathbf{\\hat{n}_z} \\\\\n",
       "          & = \\sqrt{\\left(p^N_{0x} - p^N_{Tx}\\right)^{2} + \\left(p^N_{0y} - p^N_{Ty}\\right)^{2} + \\left(p^N_{0z} - p^N_{Tz}\\right)^{2}}\\mathbf{\\hat{a}_x}\n",
       "\\end{align*}\n",
       "$$\n"
      ],
      "text/plain": [
       "<IPython.core.display.Markdown object>"
      ]
     },
     "execution_count": 20,
     "metadata": {},
     "output_type": "execute_result"
    }
   ],
   "source": [
    "direction_vector = (pT_vector_N - p0_vector_N).normalize()\n",
    "\n",
    "Nx = N.x.to_matrix(N)\n",
    "NA1 = direction_vector.to_matrix(N)\n",
    "\n",
    "v = Nx.cross(NA1)\n",
    "c = Nx.dot(NA1) # cosine of angle\n",
    "K = Matrix(3, 3, [\n",
    "    0, - v[2], v[1],\n",
    "    v[2], 0, - v[0],\n",
    "    - v[1], v[0], 0\n",
    "])\n",
    "rotation_matrix = eye(3) + K + (K * K) * (1 - c) / (1 - c ** 2)\n",
    "\n",
    "NA2 = (rotation_matrix * N.y.to_matrix(N)).simplify()\n",
    "\n",
    "dcm = Matrix(3, 3, [*NA1, *NA2, *NA1.cross(NA2)])\n",
    "\n",
    "A.orient(N, 'DCM', dcm.transpose())\n",
    "# TODO: Why do I need to transpose?\n",
    "\n",
    "Markdown(rf\"\"\"\n",
    "## Orienting reference frame $A$ relative to $N$\n",
    "\n",
    "Let us first introduce the direction unit vector:\n",
    "$$\n",
    "\\begin{{align*}}\n",
    "\\vec{{d}} & = \\frac{{p_T - p_0}}{{|p_T - p_0|}} \\\\\n",
    "          & = {latex(direction_vector)}\n",
    "\\end{{align*}}\n",
    "$$\n",
    "\n",
    "We want to align the object direction with ${latex(A.x)}$. In other words, we want to orient $A$ relative to $N$, so that $\\vec{{d}} = |d| {latex(A.x)}$.\n",
    "\n",
    "We need to define a DCM (Direction Cosine Matrix) $[AN]$, so that $A = [AN] \\times N$.\n",
    "\n",
    "Generally, a DCM is defined as:\n",
    "$$\n",
    "\\text{{DCM}} = \\begin{{vmatrix}}\n",
    "a_{{11}} & a_{{12}} & a_{{13}} \\\\\n",
    "a_{{21}} & a_{{22}} & a_{{23}} \\\\\n",
    "a_{{31}} & a_{{32}} & a_{{33}}\n",
    "\\end{{vmatrix}}\n",
    "$$\n",
    "\n",
    "### Orienting ${latex(A.x)}$\n",
    "\n",
    "We can easily infer the first row of $[AN]$:\n",
    "$$\n",
    "\\begin{{align*}}\n",
    "{latex(A.x)} &= a_{{11}} {latex(N.x)} + a_{{12}} {latex(N.y)} + a_{{13}} {latex(N.z)} \\\\\n",
    "             &= {latex(direction_vector)}\n",
    "\\end{{align*}}\n",
    "$$\n",
    "\n",
    "### Orienting ${latex(A.y)}$\n",
    "\n",
    "Now for the second row, we need the rotation matrix Rot so that ${latex(A.x)} = \\text{{Rot}} \\times {latex(N.x)}$\n",
    "We will use [Rodrigues rotation fomula](https://en.wikipedia.org/wiki/Rodrigues%27_rotation_formula) to calculate $\\text{{Rot}}$.\n",
    "\n",
    "We introduce $c$ as the dot-product of ${latex(N.x)}$ and ${latex(A.x)}$ ($c$ is the cosine of the angle between ${latex(N.x)}$ and ${latex(A.x)}$).\n",
    "We then introduce $v$ as the cross-product of ${latex(N.x)}$ and ${latex(A.x)}$, and $K$ as:\n",
    "$$\n",
    "K = \\begin{{vmatrix}}\n",
    "0 & - v_z & v_y \\\\\n",
    "v_z & 0 & - v_x \\\\\n",
    "- v_y & v_x & 0\n",
    "\\end{{vmatrix}}\n",
    "$$\n",
    "\n",
    "Thanks to Rodrigues rotation formula, we calculate that:\n",
    "$$\n",
    "\\text{{Rot}} = I_3 + K + K^2 \\times \\frac{{1 - c}}{{1 - c^2}}\n",
    "$$\n",
    "\n",
    "We then obtain ${latex(A.y)} = \\text{{Rot}} \\times {latex(N.y)}$.\n",
    "\n",
    "### Orienting ${latex(A.z)}$\n",
    "\n",
    "Finally, for the third row, we simply use the cross-product of ${latex(A.x)}$ and ${latex(A.y)}$.\n",
    "\n",
    "### Validating DCM\n",
    "\n",
    "We can validate the DCM by expressing $p_T - p_0$ in both ${latex(N)}$ and ${latex(A)}$.\n",
    "\n",
    "$$\n",
    "\\begin{{align*}}\n",
    "p_T - p_0 & = {latex((pT_vector_N - p0_vector_N).express(N))} \\\\\n",
    "          & = {latex((pT_vector_N - p0_vector_N).express(A).simplify())}\n",
    "\\end{{align*}}\n",
    "$$\n",
    "\"\"\")"
   ]
  },
  {
   "cell_type": "markdown",
   "metadata": {},
   "source": [
    "# Plotting"
   ]
  },
  {
   "cell_type": "code",
   "execution_count": null,
   "metadata": {
    "collapsed": true,
    "jupyter": {
     "outputs_hidden": true
    }
   },
   "outputs": [],
   "source": [
    "a_knob = widgets.BoundedFloatText(value=1, min=0.1, max=15.0, step=0.1, description='Acceleration magnitude (m.s-2)')\n",
    "\n",
    "# TODO: Allow 3D vector for velocity\n",
    "v0x_knob = widgets.IntText(value=0, step=10, description='v0.x (m.s-1)')\n",
    "v0y_knob = widgets.IntText(value=0, step=10, description='v0.y (m.s-1)', disabled=True)\n",
    "v0z_knob = widgets.IntText(value=0, step=10, description='v0.z (m.s-1)', disabled=True)\n",
    "\n",
    "vTx_knob = widgets.IntText(value=0, step=10, description='vT.x (m.s-1)')\n",
    "vTy_knob = widgets.IntText(value=0, step=10, description='vT.y (m.s-1)', disabled=True)\n",
    "vTz_knob = widgets.IntText(value=0, step=10, description='vT.z (m.s-1)', disabled=True)\n",
    "\n",
    "p0x_knob = widgets.IntText(value=0, step=10, description='p0.x (m)')\n",
    "p0y_knob = widgets.IntText(value=0, step=10, description='p0.y (m)')\n",
    "p0z_knob = widgets.IntText(value=0, step=10, description='p0.z (m)')\n",
    "\n",
    "pTx_knob = widgets.IntText(value=100000, step=10, description='pT.x (m)')\n",
    "pTy_knob = widgets.IntText(value=0, step=10, description='pT.y (m)')\n",
    "pTz_knob = widgets.IntText(value=0, step=10, description='pT.z (m)')\n",
    "\n",
    "ui = widgets.VBox([\n",
    "    widgets.HBox([a_knob]),\n",
    "    widgets.HBox([v0x_knob, v0y_knob, v0z_knob]),\n",
    "    widgets.HBox([vTx_knob, vTy_knob, vTz_knob]),\n",
    "    widgets.HBox([p0x_knob, p0y_knob, p0z_knob]),\n",
    "    widgets.HBox([pTx_knob, pTy_knob, pTz_knob])\n",
    "])\n",
    "display(ui)"
   ]
  },
  {
   "cell_type": "code",
   "execution_count": null,
   "metadata": {
    "collapsed": true,
    "jupyter": {
     "outputs_hidden": true
    }
   },
   "outputs": [],
   "source": [
    "def v_args(args):\n",
    "    return {\n",
    "        a_magnitude: args[\"a_knob\"],\n",
    "        v0_x: args[\"v0x_knob\"],\n",
    "        v0_y: args[\"v0y_knob\"],\n",
    "        v0_z: args[\"v0z_knob\"],\n",
    "        vT_x: args[\"vTx_knob\"],\n",
    "        vT_y: args[\"vTy_knob\"],\n",
    "        vT_z: args[\"vTz_knob\"],\n",
    "    }\n",
    "\n",
    "def p_args(args):\n",
    "    return {\n",
    "        **v_args(args),\n",
    "        p0_x: args[\"p0x_knob\"],\n",
    "        p0_y: args[\"p0y_knob\"],\n",
    "        p0_z: args[\"p0z_knob\"],\n",
    "        pT_x: args[\"pTx_knob\"],\n",
    "        pT_y: args[\"pTy_knob\"],\n",
    "        pT_z: args[\"pTz_knob\"],\n",
    "    }\n",
    "\n",
    "def make_plot(title, short_name, fn, args, line_shape=\"spline\"):\n",
    "    R_val = solved_R.subs(v_args(args))\n",
    "    T_val = solved_T.subs(p_args(args))\n",
    "    \n",
    "    t_sample = np.linspace(0, float(T_val), 99)\n",
    "    image_sample = lambdify(t, fn.to_matrix(N).subs({**p_args(args), T: T_val, R: R_val}))\n",
    "    \n",
    "    fig = go.Figure()\n",
    "    fig.add_trace(go.Scatter(x=list(t_sample), y=[image_sample(t_val)[0][0] for t_val in t_sample], line_shape=line_shape, name=f\"{short_name} - x\"))\n",
    "    fig.add_trace(go.Scatter(x=list(t_sample), y=[image_sample(t_val)[1][0] for t_val in t_sample], line_shape=line_shape, name=f\"{short_name} - y\"))\n",
    "    fig.add_trace(go.Scatter(x=list(t_sample), y=[image_sample(t_val)[2][0] for t_val in t_sample], line_shape=line_shape, name=f\"{short_name} - z\"))\n",
    "\n",
    "    fig.update_layout(title=title, xaxis_title=\"t\", yaxis_title=short_name)\n",
    "    return fig\n",
    "\n",
    "def plot_position(**knob_args):\n",
    "    plot = make_plot(\"Position\", \"p(t)\", d_fn, knob_args)\n",
    "    plot.show()\n",
    "    \n",
    "def plot_velocity(**knob_args):\n",
    "    plot = make_plot(\"Velocity\", \"v(t)\", v_fn, knob_args)\n",
    "    plot.show()\n",
    "    \n",
    "def plot_acceleration(**knob_args):\n",
    "    plot = make_plot(\"Acceleration\", \"a(t)\", a_fn, knob_args, line_shape=\"hv\")\n",
    "    plot.show()\n",
    "    \n",
    "def plot_3d_position(**args):\n",
    "    R_val = solved_R.subs(v_args(args))\n",
    "    T_val = solved_T.subs(p_args(args))\n",
    "\n",
    "    t_sample = np.linspace(0, float(T_val), 99)\n",
    "    d = lambdify(t, d_fn.to_matrix(N).subs({**p_args(args), T: T_val, R: R_val}))\n",
    "    p_mag = lambdify(t, d_fn.to_matrix(A).subs({**p_args(args), T: T_val, R: R_val}))\n",
    "    v = lambdify(t, v_fn.to_matrix(N).subs({**p_args(args), T: T_val, R: R_val}))\n",
    "    v_mag = lambdify(t, v_fn.to_matrix(A).subs({**p_args(args), T: T_val, R: R_val}))\n",
    "    a = lambdify(t, a_fn.to_matrix(N).subs({**p_args(args), T: T_val, R: R_val}))\n",
    "    a_mag = lambdify(t, a_fn.to_matrix(A).subs({**p_args(args), T: T_val, R: R_val}))\n",
    "\n",
    "    fig = go.Figure()\n",
    "    fig.add_trace(go.Scatter3d(\n",
    "        x=[d(t_val)[0][0] for t_val in t_sample],\n",
    "        y=[d(t_val)[1][0] for t_val in t_sample],\n",
    "        z=[d(t_val)[2][0] for t_val in t_sample],\n",
    "        customdata=np.dstack((\n",
    "            [p_mag(t_val)[0][0] for t_val in t_sample],\n",
    "            [v_mag(t_val)[0][0] for t_val in t_sample],\n",
    "            [v(t_val)[0][0] for t_val in t_sample],\n",
    "            [v(t_val)[1][0] for t_val in t_sample],\n",
    "            [v(t_val)[2][0] for t_val in t_sample],\n",
    "            [a_mag(t_val)[0][0] for t_val in t_sample],\n",
    "            [a(t_val)[0][0] for t_val in t_sample],\n",
    "            [a(t_val)[1][0] for t_val in t_sample],\n",
    "            [a(t_val)[2][0] for t_val in t_sample],\n",
    "        ))[0],\n",
    "        hovertemplate='''\n",
    "            p:%{customdata[0]:.1f} m - (%{x:.1f} %{y:.1f} %{z:.1f})<br>\n",
    "            v:%{customdata[1]:.1f} m/s - (x:%{customdata[2]:.1f}, y:%{customdata[3]:.1f}, z:%{customdata[4]:.1f})<br>\n",
    "            a:%{customdata[5]:.1f} m/s2 - (x:%{customdata[6]:.1f}, y:%{customdata[7]:.1f}, z:%{customdata[8]:.1f})\n",
    "        ''',\n",
    "        line={\n",
    "            \"color\": list(t_sample),\n",
    "            \"colorscale\": \"Viridis\",\n",
    "            \"colorbar\": { \"title\": \"t\" }\n",
    "        },\n",
    "        marker={ \"size\": 2, \"color\": list(t_sample), \"colorscale\": \"Viridis\" },\n",
    "        name=f\"p(t)\",\n",
    "\n",
    "    ))\n",
    "\n",
    "    fig.update_layout(title=\"3D Position\", xaxis_title=\"p(x)\", yaxis_title=\"p(y)\", autosize=True, height=700)\n",
    "    fig.show(config={'scrollZoom': False})"
   ]
  },
  {
   "cell_type": "code",
   "execution_count": null,
   "metadata": {
    "collapsed": true,
    "jupyter": {
     "outputs_hidden": true,
     "source_hidden": true
    }
   },
   "outputs": [],
   "source": [
    "knob_args = {\n",
    "    \"a_knob\": a_knob,\n",
    "    \"v0x_knob\": v0x_knob, \"v0y_knob\": v0y_knob, \"v0z_knob\": v0z_knob,\n",
    "    \"vTx_knob\": vTx_knob, \"vTy_knob\": vTy_knob, \"vTz_knob\": vTz_knob,\n",
    "    \"p0x_knob\": p0x_knob, \"p0y_knob\": p0y_knob, \"p0z_knob\": p0z_knob,\n",
    "    \"pTx_knob\": pTx_knob, \"pTy_knob\": pTy_knob, \"pTz_knob\": pTz_knob\n",
    "}\n",
    "\n",
    "position_plot = interactive_output(plot_position, knob_args)\n",
    "velocity_plot = interactive_output(plot_velocity, knob_args)\n",
    "acceleration_plot = interactive_output(plot_acceleration, knob_args)\n",
    "position_3d_plot = interactive_output(plot_3d_position, knob_args)\n",
    "\n",
    "display(position_plot, velocity_plot, acceleration_plot, position_3d_plot)"
   ]
  }
 ],
 "metadata": {
  "kernelspec": {
   "display_name": "Python 3",
   "language": "python",
   "name": "python3"
  },
  "language_info": {
   "codemirror_mode": {
    "name": "ipython",
    "version": 3
   },
   "file_extension": ".py",
   "mimetype": "text/x-python",
   "name": "python",
   "nbconvert_exporter": "python",
   "pygments_lexer": "ipython3",
   "version": "3.8.2"
  }
 },
 "nbformat": 4,
 "nbformat_minor": 4
}
