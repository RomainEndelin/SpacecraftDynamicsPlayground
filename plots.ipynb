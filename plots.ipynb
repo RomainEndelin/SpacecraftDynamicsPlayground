{
 "cells": [
  {
   "cell_type": "code",
   "execution_count": 11,
   "metadata": {},
   "outputs": [
    {
     "name": "stdout",
     "output_type": "stream",
     "text": [
      "The autoreload extension is already loaded. To reload it, use:\n",
      "  %reload_ext autoreload\n"
     ]
    }
   ],
   "source": [
    "%load_ext autoreload\n",
    "%autoreload 2\n",
    "\n",
    "from space_sim.plot.plot import plot_position, plot_velocity, plot_acceleration, plot_3d_position\n",
    "\n",
    "import ipywidgets as widgets\n",
    "from ipywidgets import interactive_output"
   ]
  },
  {
   "cell_type": "code",
   "execution_count": 12,
   "metadata": {},
   "outputs": [
    {
     "data": {
      "application/vnd.jupyter.widget-view+json": {
       "model_id": "899783d706cf422481e9933eebf822c5",
       "version_major": 2,
       "version_minor": 0
      },
      "text/plain": [
       "VBox(children=(HBox(children=(BoundedFloatText(value=1.0, description='Acceleration (m.s-2)', max=15.0, min=0.…"
      ]
     },
     "metadata": {},
     "output_type": "display_data"
    }
   ],
   "source": [
    "a_knob = widgets.BoundedFloatText(value=1, min=0.1, max=15.0, step=0.1, description='Acceleration (m.s-2)')\n",
    "v0_knob = widgets.IntText(value=0, step=10, description='v0 (m.s-1)')\n",
    "vT_knob = widgets.IntText(value=0, step=10, description='vT (m.s-1)')\n",
    "\n",
    "p0x_knob = widgets.IntText(value=0, step=10, description='p0.x (m)')\n",
    "p0y_knob = widgets.IntText(value=0, step=10, description='p0.y (m)')\n",
    "p0z_knob = widgets.IntText(value=0, step=10, description='p0.z (m)')\n",
    "\n",
    "pTx_knob = widgets.IntText(value=100000, step=10, description='pT.x (m)')\n",
    "pTy_knob = widgets.IntText(value=0, step=10, description='pT.y (m)')\n",
    "pTz_knob = widgets.IntText(value=0, step=10, description='pT.z (m)')\n",
    "\n",
    "ui = widgets.VBox([\n",
    "    widgets.HBox([a_knob, v0_knob, vT_knob]),\n",
    "    widgets.HBox([p0x_knob, p0y_knob, p0z_knob]),\n",
    "    widgets.HBox([pTx_knob, pTy_knob, pTz_knob])\n",
    "])\n",
    "display(ui)"
   ]
  },
  {
   "cell_type": "code",
   "execution_count": 13,
   "metadata": {},
   "outputs": [
    {
     "data": {
      "application/vnd.jupyter.widget-view+json": {
       "model_id": "4477d60334e04f399b1d75313250192f",
       "version_major": 2,
       "version_minor": 0
      },
      "text/plain": [
       "Output()"
      ]
     },
     "metadata": {},
     "output_type": "display_data"
    },
    {
     "data": {
      "application/vnd.jupyter.widget-view+json": {
       "model_id": "7e7f182492084c6f972a3274ec980d1e",
       "version_major": 2,
       "version_minor": 0
      },
      "text/plain": [
       "Output()"
      ]
     },
     "metadata": {},
     "output_type": "display_data"
    },
    {
     "data": {
      "application/vnd.jupyter.widget-view+json": {
       "model_id": "7ab92f357f5a43f48a68f7ee1e3688c4",
       "version_major": 2,
       "version_minor": 0
      },
      "text/plain": [
       "Output()"
      ]
     },
     "metadata": {},
     "output_type": "display_data"
    },
    {
     "data": {
      "application/vnd.jupyter.widget-view+json": {
       "model_id": "a1ebf8b73922418ba00f40168eb8d638",
       "version_major": 2,
       "version_minor": 0
      },
      "text/plain": [
       "Output()"
      ]
     },
     "metadata": {},
     "output_type": "display_data"
    }
   ],
   "source": [
    "knob_args = {\n",
    "    \"a_magnitude\": a_knob,\n",
    "    \"v0_magnitude\": v0_knob, \"vT_magnitude\": vT_knob,\n",
    "    \"p0x_n\": p0x_knob, \"p0y_n\": p0y_knob, \"p0z_n\": p0z_knob,\n",
    "    \"pTx_n\": pTx_knob, \"pTy_n\": pTy_knob, \"pTz_n\": pTz_knob\n",
    "}\n",
    "\n",
    "position_plot = interactive_output(plot_position, knob_args)\n",
    "velocity_plot = interactive_output(plot_velocity, knob_args)\n",
    "acceleration_plot = interactive_output(plot_acceleration, knob_args)\n",
    "position_3d_plot = interactive_output(plot_3d_position, knob_args)\n",
    "display(position_plot, velocity_plot, acceleration_plot, position_3d_plot)"
   ]
  }
 ],
 "metadata": {
  "kernelspec": {
   "display_name": "Python 3",
   "language": "python",
   "name": "python3"
  },
  "language_info": {
   "codemirror_mode": {
    "name": "ipython",
    "version": 3
   },
   "file_extension": ".py",
   "mimetype": "text/x-python",
   "name": "python",
   "nbconvert_exporter": "python",
   "pygments_lexer": "ipython3",
   "version": "3.8.2"
  }
 },
 "nbformat": 4,
 "nbformat_minor": 4
}
