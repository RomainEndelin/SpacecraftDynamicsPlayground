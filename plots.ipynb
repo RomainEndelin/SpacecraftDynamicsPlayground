{
 "cells": [
  {
   "cell_type": "code",
   "execution_count": 77,
   "metadata": {},
   "outputs": [
    {
     "name": "stdout",
     "output_type": "stream",
     "text": [
      "The autoreload extension is already loaded. To reload it, use:\n",
      "  %reload_ext autoreload\n"
     ]
    }
   ],
   "source": [
    "%load_ext autoreload\n",
    "%autoreload 2\n",
    "\n",
    "from space_sim.plot.plot import plot_position, plot_velocity, plot_acceleration, plot_3d_position, wrap_plots_in_system\n",
    "\n",
    "import ipywidgets as widgets\n",
    "from ipywidgets import interactive_output"
   ]
  },
  {
   "cell_type": "code",
   "execution_count": 3,
   "metadata": {},
   "outputs": [
    {
     "data": {
      "application/vnd.jupyter.widget-view+json": {
       "model_id": "774b869da47a46769a3d2dcdda684410",
       "version_major": 2,
       "version_minor": 0
      },
      "text/plain": [
       "VBox(children=(HBox(children=(BoundedFloatText(value=1.0, description='Acceleration (m.s-2)', max=15.0, min=0.…"
      ]
     },
     "metadata": {},
     "output_type": "display_data"
    }
   ],
   "source": [
    "a_knob = widgets.BoundedFloatText(value=1, min=0.1, max=15.0, step=0.1, description='Acceleration (m.s-2)')\n",
    "v0x_knob = widgets.IntText(value=0, step=10, description='v0.x (m.s-1)')\n",
    "v0y_knob = widgets.IntText(value=0, step=10, description='v0.y (m.s-1)')\n",
    "v0z_knob = widgets.IntText(value=0, step=10, description='v0.z (m.s-1)')\n",
    "vTx_knob = widgets.IntText(value=0, step=10, description='vT.x (m.s-1)')\n",
    "vTy_knob = widgets.IntText(value=0, step=10, description='vT.y (m.s-1)')\n",
    "vTz_knob = widgets.IntText(value=0, step=10, description='vT.z (m.s-1)')\n",
    "\n",
    "p0x_knob = widgets.IntText(value=0, step=10, description='p0.x (m)')\n",
    "p0y_knob = widgets.IntText(value=0, step=10, description='p0.y (m)')\n",
    "p0z_knob = widgets.IntText(value=0, step=10, description='p0.z (m)')\n",
    "\n",
    "pTx_knob = widgets.IntText(value=100000, step=10, description='pT.x (m)')\n",
    "pTy_knob = widgets.IntText(value=0, step=10, description='pT.y (m)')\n",
    "pTz_knob = widgets.IntText(value=0, step=10, description='pT.z (m)')\n",
    "\n",
    "ui = widgets.VBox([\n",
    "    widgets.HBox([a_knob]),\n",
    "    widgets.HBox([v0x_knob, v0y_knob, v0z_knob]),\n",
    "    widgets.HBox([vTx_knob, vTy_knob, vTz_knob]),\n",
    "    widgets.HBox([p0x_knob, p0y_knob, p0z_knob]),\n",
    "    widgets.HBox([pTx_knob, pTy_knob, pTz_knob])\n",
    "])\n",
    "display(ui)"
   ]
  },
  {
   "cell_type": "code",
   "execution_count": null,
   "metadata": {},
   "outputs": [],
   "source": [
    "from space_sim.maths.helpers import (\n",
    "    acceleration_algorithm,\n",
    "    acceleration_algorithm2,\n",
    "    align_x_to_vector_dcm,\n",
    "    make_vector,\n",
    "    motion_params,\n",
    "    solve_system,\n",
    "    eval_in_T,\n",
    "    make_equation_matrix,\n",
    "    make_equation_matrix2,\n",
    "    solve_RT_1d,\n",
    "    Piecewise\n",
    ")\n",
    "from space_sim.maths.workflow import (\n",
    "    initialize_system,\n",
    "    initialize_unknowns,\n",
    "    create_body_frame,\n",
    ")\n",
    "from sympy import symbols, Matrix, solveset, nonlinsolve, Max, solve, S, Eq\n",
    "from sympy.physics.vector import ReferenceFrame\n",
    "\n",
    "t = symbols(\"t\", real=True, nonnegative=True)\n",
    "\n",
    "A = ReferenceFrame(\"A\")\n",
    "p0x = symbols(\"p_{0x}\")\n",
    "pTx = symbols(\"p_{Tx}\")\n",
    "v0x, v0y, v0z = symbols(\"v_{0x} v_{0y} v_{0z}\")\n",
    "vTx, vTy, vTz = symbols(\"v_{Tx} v_{Ty} v_{Tz}\")\n",
    "\n",
    "p0 = make_vector(A, p0x, 0, 0)\n",
    "pT = make_vector(A, pTx, 0, 0)\n",
    "\n",
    "v0 = make_vector(A, v0x, v0y, v0z)\n",
    "vT = make_vector(A, vTx, vTy, vTz)\n",
    "\n",
    "direction = (pT - p0).express(A)\n",
    "# v0_A = v0.express(A)\n",
    "# vT_A = vT.express(A)\n",
    "\n",
    "unknowns = initialize_unknowns()\n",
    "\n",
    "M = symbols(\"M\", nonnegative=True)\n",
    "a_vector = acceleration_algorithm(A, **unknowns)\n",
    "# a_vector = acceleration_algorithm2(A, M, **unknowns)\n",
    "\n",
    "a_fn, v_fn, p_fn = motion_params(A, a_vector, v0, t)\n",
    "\n",
    "computed_vT = eval_in_T(v_fn, t, unknowns[\"T\"], unknowns[\"Rx\"], unknowns[\"Ry\"], unknowns[\"Rz\"])\n",
    "computed_pT = eval_in_T(p_fn, t, unknowns[\"T\"], unknowns[\"Rx\"], unknowns[\"Ry\"], unknowns[\"Rz\"])\n",
    "computed_M = (unknowns[\"Mx\"] * A.x + unknowns[\"My\"] * A.y + unknowns[\"Mz\"] * A.z).magnitude()\n",
    "\n",
    "solved_Rx, solved_Tx = solve_RT_1d(A.x, computed_pT, computed_vT, pT, vT, unknowns[\"Rx\"], unknowns[\"T\"])\n",
    "solved_Ry, solved_Ty = solve_RT_1d(A.y, computed_pT, computed_vT, pT, vT, unknowns[\"Ry\"], unknowns[\"T\"])\n",
    "solved_Rz, solved_Tz = solve_RT_1d(A.z, computed_pT, computed_vT, pT, vT, unknowns[\"Rz\"], unknowns[\"T\"])\n",
    "\n",
    "# FIXME: solved_My and solved_Mz are not defined in 0.\n",
    "# They should be defined, related to the case where v0y = vTy = 0 (resp. v0z = vTZ = 0)\n",
    "solved_My = solveset(solved_Tx - solved_Ty, unknowns[\"My\"])\n",
    "solved_Mz = solveset(solved_Tx - solved_Tz, unknowns[\"Mz\"])\n",
    "solved_Mx = solveset(computed_M.subs({unknowns[\"My\"]: solved_My, unknowns[\"Mz\"]: solved_Mz}) - M, unknowns[\"Mx\"])\n",
    "\n",
    "solved_T = solved_Tx.subs({unknowns[\"Mx\"]: solved_Mx})\n",
    "\n",
    "solved_My_final = solved_Mx.subs({unknown[\"Mx\"]: solved_Mx})\n",
    "solved_Mz_final = solved_Mz.subs({unknown[\"Mx\"]: solved_Mx})\n",
    "\n",
    "solved_Rx_final = solved_Rx.subs({unknowns[\"Mx\"]: solved_Mx})\n",
    "solved_Ry_final = solved_Ry.subs({unknowns[\"My\"]: solved_My_final})\n",
    "solved_Rz_final = solved_Rz.subs({unknowns[\"Mz\"]: solved_Mz_final})"
   ]
  },
  {
   "cell_type": "code",
   "execution_count": 169,
   "metadata": {},
   "outputs": [
    {
     "data": {
      "text/latex": [
       "$\\displaystyle \\left(0, \\infty\\right) \\cap \\left\\{\\frac{M_{x} \\left(v_{0z} + v_{Tz} - \\sqrt{2 v_{0z}^{2} + 2 v_{Tz}^{2}}\\right)}{v_{0x} + v_{Tx} + \\sqrt{2} \\sqrt{2 G M_{x} p_{Tx} + v_{0x}^{2} + v_{Tx}^{2}}}\\right\\}$"
      ],
      "text/plain": [
       "Intersection(FiniteSet(M_x*(v_{0z} + v_{Tz} - sqrt(2*v_{0z}**2 + 2*v_{Tz}**2))/(v_{0x} + v_{Tx} + sqrt(2)*sqrt(2*G*M_x*p_{Tx} + v_{0x}**2 + v_{Tx}**2))), Interval.open(0, oo))"
      ]
     },
     "execution_count": 169,
     "metadata": {},
     "output_type": "execute_result"
    }
   ],
   "source": [
    "Ty = list(solveset((computed_pT - pT).dot(A.y).subs({unknowns[\"Ry\"]: solved_Ry}), unknowns[\"T\"]))[0]\n",
    "tmp_Ty = Piecewise((Ty, unknowns[\"My\"] > 0), (0, True))\n",
    "tmp_My = solveset(solved_Tx - tmp_Ty, unknowns[\"My\"], domain=S.Reals)\n",
    "\n",
    "Tz = list(solveset((computed_pT - pT).dot(A.z).subs({unknowns[\"Rz\"]: solved_Rz}), unknowns[\"T\"]))[0]\n",
    "tmp_Tz = Piecewise((Tz, unknowns[\"Mz\"] > 0), (0, True))\n",
    "tmp_Mz = solveset(solved_Tx - tmp_Tz, unknowns[\"Mz\"], domain=S.Reals)\n",
    "\n",
    "tmp_Mz\n",
    "# solved_Mx = solveset(computed_M.subs({unknowns[\"My\"]: tmp_My, unknowns[\"Mz\"]: tmp_Mz}) - M, unknowns[\"Mx\"])"
   ]
  },
  {
   "cell_type": "code",
   "execution_count": null,
   "metadata": {},
   "outputs": [],
   "source": [
    "knob_args = {\n",
    "    \"a_magnitude\": a_knob,\n",
    "    \"v0x\": v0x_knob, \"v0y\": v0y_knob, \"v0z\": v0z_knob,\n",
    "    \"vTx\": vTx_knob, \"vTy\": vTy_knob, \"vTz\": vTz_knob,\n",
    "    \"p0x\": p0x_knob, \"p0y\": p0y_knob, \"p0z\": p0z_knob,\n",
    "    \"pTx\": pTx_knob, \"pTy\": pTy_knob, \"pTz\": pTz_knob\n",
    "}\n",
    "\n",
    "plot_p, plot_v, plot_a, plot_3d = wrap_plots_in_system(plot_position, plot_velocity, plot_acceleration, plot_3d_position)"
   ]
  },
  {
   "cell_type": "code",
   "execution_count": null,
   "metadata": {},
   "outputs": [],
   "source": [
    "position_plot = interactive_output(plot_p, knob_args)\n",
    "velocity_plot = interactive_output(plot_v, knob_args)\n",
    "acceleration_plot = interactive_output(plot_a, knob_args)\n",
    "position_3d_plot = interactive_output(plot_3d, knob_args)\n",
    "display(position_plot, velocity_plot, acceleration_plot, position_3d_plot)"
   ]
  }
 ],
 "metadata": {
  "kernelspec": {
   "display_name": "Python 3",
   "language": "python",
   "name": "python3"
  },
  "language_info": {
   "codemirror_mode": {
    "name": "ipython",
    "version": 3
   },
   "file_extension": ".py",
   "mimetype": "text/x-python",
   "name": "python",
   "nbconvert_exporter": "python",
   "pygments_lexer": "ipython3",
   "version": "3.8.2"
  }
 },
 "nbformat": 4,
 "nbformat_minor": 4
}
